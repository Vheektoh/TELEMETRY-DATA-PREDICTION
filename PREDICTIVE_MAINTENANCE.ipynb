{
 "cells": [
  {
   "cell_type": "markdown",
   "id": "e4aea95e",
   "metadata": {},
   "source": [
    "# PREDICTIVE MAINTENANCE USING MACHINE LEARNING"
   ]
  },
  {
   "cell_type": "markdown",
   "id": "1fdb2873",
   "metadata": {},
   "source": [
    "### IMPORTING THE REQUIRED LIBRARIES"
   ]
  },
  {
   "cell_type": "code",
   "execution_count": 1,
   "id": "d0f01c9f",
   "metadata": {},
   "outputs": [],
   "source": [
    "import pandas as pd # Importing pandas library and aliasing it as pd\n",
    "import numpy as np # Importing numpy library and aliasing it as np\n",
    "import time # tracks time for a certain operation\n",
    "import psutil # tracks cpu usage\n",
    "import threading # allows continous monitoring\n",
    "from sklearn.preprocessing import Normalizer, StandardScaler, MinMaxScaler # scaler\n",
    "from sklearn.model_selection import train_test_split # splitting the dataset\n",
    "import matplotlib.pyplot as plt # Importing pyplot module from matplotlib library and aliasing it as plt\n",
    "from sklearn.preprocessing import LabelEncoder\n",
    "from sklearn.linear_model import LogisticRegression\n",
    "from sklearn.tree import DecisionTreeClassifier\n",
    "from sklearn.ensemble import RandomForestClassifier # random forest \n",
    "from imblearn.over_sampling import SMOTE # the smote oversampler\n",
    "import seaborn as sns # Importing seaborn library and aliasing it as sns\n",
    "from sklearn.metrics import accuracy_score, precision_score, recall_score, f1_score, roc_auc_score, precision_recall_curve, roc_curve, auc, confusion_matrix, classification_report, mean_absolute_error, mean_squared_error, r2_score\n",
    "import warnings\n",
    "warnings.filterwarnings(\"ignore\")\n",
    "pd.set_option('display.max_columns', None)   # Setting pandas option to display all columns in DataFrame\n",
    "plt.style.use('ggplot')  # Setting plot style to 'ggplot' from matplotlib"
   ]
  },
  {
   "cell_type": "code",
   "execution_count": 2,
   "id": "17681005",
   "metadata": {},
   "outputs": [],
   "source": [
    "# Reading data from into data DataFrame\n",
    "data = pd.read_csv(\"C:/Users/Hp/Documents/ugoo_dataset/exp1_14drivers_14cars_dailyRoutes.csv\", low_memory=False)"
   ]
  },
  {
   "cell_type": "code",
   "execution_count": 3,
   "id": "9512fdb5",
   "metadata": {},
   "outputs": [
    {
     "data": {
      "text/html": [
       "<div>\n",
       "<style scoped>\n",
       "    .dataframe tbody tr th:only-of-type {\n",
       "        vertical-align: middle;\n",
       "    }\n",
       "\n",
       "    .dataframe tbody tr th {\n",
       "        vertical-align: top;\n",
       "    }\n",
       "\n",
       "    .dataframe thead th {\n",
       "        text-align: right;\n",
       "    }\n",
       "</style>\n",
       "<table border=\"1\" class=\"dataframe\">\n",
       "  <thead>\n",
       "    <tr style=\"text-align: right;\">\n",
       "      <th></th>\n",
       "      <th>TIMESTAMP</th>\n",
       "      <th>MARK</th>\n",
       "      <th>MODEL</th>\n",
       "      <th>CAR_YEAR</th>\n",
       "      <th>ENGINE_POWER</th>\n",
       "      <th>AUTOMATIC</th>\n",
       "      <th>VEHICLE_ID</th>\n",
       "      <th>BAROMETRIC_PRESSURE(KPA)</th>\n",
       "      <th>ENGINE_COOLANT_TEMP</th>\n",
       "      <th>FUEL_LEVEL</th>\n",
       "      <th>ENGINE_LOAD</th>\n",
       "      <th>AMBIENT_AIR_TEMP</th>\n",
       "      <th>ENGINE_RPM</th>\n",
       "      <th>INTAKE_MANIFOLD_PRESSURE</th>\n",
       "      <th>MAF</th>\n",
       "      <th>LONG TERM FUEL TRIM BANK 2</th>\n",
       "      <th>FUEL_TYPE</th>\n",
       "      <th>AIR_INTAKE_TEMP</th>\n",
       "      <th>FUEL_PRESSURE</th>\n",
       "      <th>SPEED</th>\n",
       "      <th>SHORT TERM FUEL TRIM BANK 2</th>\n",
       "      <th>SHORT TERM FUEL TRIM BANK 1</th>\n",
       "      <th>ENGINE_RUNTIME</th>\n",
       "      <th>THROTTLE_POS</th>\n",
       "      <th>DTC_NUMBER</th>\n",
       "      <th>TROUBLE_CODES</th>\n",
       "      <th>TIMING_ADVANCE</th>\n",
       "      <th>EQUIV_RATIO</th>\n",
       "      <th>MIN</th>\n",
       "      <th>HOURS</th>\n",
       "      <th>DAYS_OF_WEEK</th>\n",
       "      <th>MONTHS</th>\n",
       "      <th>YEAR</th>\n",
       "    </tr>\n",
       "  </thead>\n",
       "  <tbody>\n",
       "    <tr>\n",
       "      <th>0</th>\n",
       "      <td>1.502903e+12</td>\n",
       "      <td>chevrolet</td>\n",
       "      <td>agile</td>\n",
       "      <td>2011.0</td>\n",
       "      <td>1,4</td>\n",
       "      <td>n</td>\n",
       "      <td>car1</td>\n",
       "      <td>100.0</td>\n",
       "      <td>80.0</td>\n",
       "      <td>48,60%</td>\n",
       "      <td>33,30%</td>\n",
       "      <td>NaN</td>\n",
       "      <td>1009.0</td>\n",
       "      <td>49.0</td>\n",
       "      <td>4,49</td>\n",
       "      <td>NaN</td>\n",
       "      <td>Biodiesel_Ethanol</td>\n",
       "      <td>59.0</td>\n",
       "      <td>NaN</td>\n",
       "      <td>0.0</td>\n",
       "      <td>NaN</td>\n",
       "      <td>NaN</td>\n",
       "      <td>00:03:28</td>\n",
       "      <td>25%</td>\n",
       "      <td>MIL is OFF0 codes</td>\n",
       "      <td>NaN</td>\n",
       "      <td>56,9%</td>\n",
       "      <td>1,0%</td>\n",
       "      <td>13.0</td>\n",
       "      <td>16.0</td>\n",
       "      <td>2.0</td>\n",
       "      <td>8.0</td>\n",
       "      <td>2017.0</td>\n",
       "    </tr>\n",
       "    <tr>\n",
       "      <th>1</th>\n",
       "      <td>1.502903e+12</td>\n",
       "      <td>chevrolet</td>\n",
       "      <td>agile</td>\n",
       "      <td>2011.0</td>\n",
       "      <td>1,4</td>\n",
       "      <td>n</td>\n",
       "      <td>car1</td>\n",
       "      <td>100.0</td>\n",
       "      <td>80.0</td>\n",
       "      <td>48,60%</td>\n",
       "      <td>32,50%</td>\n",
       "      <td>NaN</td>\n",
       "      <td>1003.0</td>\n",
       "      <td>52.0</td>\n",
       "      <td>4,51</td>\n",
       "      <td>NaN</td>\n",
       "      <td>Biodiesel_Ethanol</td>\n",
       "      <td>59.0</td>\n",
       "      <td>NaN</td>\n",
       "      <td>0.0</td>\n",
       "      <td>NaN</td>\n",
       "      <td>NaN</td>\n",
       "      <td>00:03:35</td>\n",
       "      <td>25%</td>\n",
       "      <td>MIL is OFF0 codes</td>\n",
       "      <td>NaN</td>\n",
       "      <td>56,5%</td>\n",
       "      <td>1,0%</td>\n",
       "      <td>13.0</td>\n",
       "      <td>16.0</td>\n",
       "      <td>2.0</td>\n",
       "      <td>8.0</td>\n",
       "      <td>2017.0</td>\n",
       "    </tr>\n",
       "    <tr>\n",
       "      <th>2</th>\n",
       "      <td>1.502903e+12</td>\n",
       "      <td>chevrolet</td>\n",
       "      <td>agile</td>\n",
       "      <td>2011.0</td>\n",
       "      <td>1,4</td>\n",
       "      <td>n</td>\n",
       "      <td>car1</td>\n",
       "      <td>100.0</td>\n",
       "      <td>80.0</td>\n",
       "      <td>48,60%</td>\n",
       "      <td>32,90%</td>\n",
       "      <td>NaN</td>\n",
       "      <td>995.0</td>\n",
       "      <td>51.0</td>\n",
       "      <td>4,48</td>\n",
       "      <td>NaN</td>\n",
       "      <td>Biodiesel_Ethanol</td>\n",
       "      <td>59.0</td>\n",
       "      <td>NaN</td>\n",
       "      <td>0.0</td>\n",
       "      <td>NaN</td>\n",
       "      <td>NaN</td>\n",
       "      <td>00:03:43</td>\n",
       "      <td>25%</td>\n",
       "      <td>MIL is OFF0 codes</td>\n",
       "      <td>NaN</td>\n",
       "      <td>57,3%</td>\n",
       "      <td>1,0%</td>\n",
       "      <td>13.0</td>\n",
       "      <td>16.0</td>\n",
       "      <td>2.0</td>\n",
       "      <td>8.0</td>\n",
       "      <td>2017.0</td>\n",
       "    </tr>\n",
       "    <tr>\n",
       "      <th>3</th>\n",
       "      <td>1.502903e+12</td>\n",
       "      <td>chevrolet</td>\n",
       "      <td>agile</td>\n",
       "      <td>2011.0</td>\n",
       "      <td>1,4</td>\n",
       "      <td>n</td>\n",
       "      <td>car1</td>\n",
       "      <td>100.0</td>\n",
       "      <td>80.0</td>\n",
       "      <td>48,60%</td>\n",
       "      <td>32,50%</td>\n",
       "      <td>NaN</td>\n",
       "      <td>1004.0</td>\n",
       "      <td>51.0</td>\n",
       "      <td>4,51</td>\n",
       "      <td>NaN</td>\n",
       "      <td>Biodiesel_Ethanol</td>\n",
       "      <td>60.0</td>\n",
       "      <td>NaN</td>\n",
       "      <td>0.0</td>\n",
       "      <td>NaN</td>\n",
       "      <td>NaN</td>\n",
       "      <td>00:03:51</td>\n",
       "      <td>25%</td>\n",
       "      <td>MIL is OFF0 codes</td>\n",
       "      <td>NaN</td>\n",
       "      <td>56,5%</td>\n",
       "      <td>1,0%</td>\n",
       "      <td>13.0</td>\n",
       "      <td>16.0</td>\n",
       "      <td>2.0</td>\n",
       "      <td>8.0</td>\n",
       "      <td>2017.0</td>\n",
       "    </tr>\n",
       "    <tr>\n",
       "      <th>4</th>\n",
       "      <td>1.502903e+12</td>\n",
       "      <td>chevrolet</td>\n",
       "      <td>agile</td>\n",
       "      <td>2011.0</td>\n",
       "      <td>1,4</td>\n",
       "      <td>n</td>\n",
       "      <td>car1</td>\n",
       "      <td>100.0</td>\n",
       "      <td>80.0</td>\n",
       "      <td>48,60%</td>\n",
       "      <td>32,90%</td>\n",
       "      <td>NaN</td>\n",
       "      <td>1005.0</td>\n",
       "      <td>49.0</td>\n",
       "      <td>4,49</td>\n",
       "      <td>NaN</td>\n",
       "      <td>Biodiesel_Ethanol</td>\n",
       "      <td>60.0</td>\n",
       "      <td>NaN</td>\n",
       "      <td>0.0</td>\n",
       "      <td>NaN</td>\n",
       "      <td>NaN</td>\n",
       "      <td>00:03:59</td>\n",
       "      <td>25%</td>\n",
       "      <td>MIL is OFF0 codes</td>\n",
       "      <td>NaN</td>\n",
       "      <td>56,9%</td>\n",
       "      <td>1,0%</td>\n",
       "      <td>13.0</td>\n",
       "      <td>16.0</td>\n",
       "      <td>2.0</td>\n",
       "      <td>8.0</td>\n",
       "      <td>2017.0</td>\n",
       "    </tr>\n",
       "  </tbody>\n",
       "</table>\n",
       "</div>"
      ],
      "text/plain": [
       "      TIMESTAMP       MARK  MODEL  CAR_YEAR ENGINE_POWER AUTOMATIC VEHICLE_ID  \\\n",
       "0  1.502903e+12  chevrolet  agile    2011.0          1,4         n       car1   \n",
       "1  1.502903e+12  chevrolet  agile    2011.0          1,4         n       car1   \n",
       "2  1.502903e+12  chevrolet  agile    2011.0          1,4         n       car1   \n",
       "3  1.502903e+12  chevrolet  agile    2011.0          1,4         n       car1   \n",
       "4  1.502903e+12  chevrolet  agile    2011.0          1,4         n       car1   \n",
       "\n",
       "   BAROMETRIC_PRESSURE(KPA)  ENGINE_COOLANT_TEMP FUEL_LEVEL ENGINE_LOAD  \\\n",
       "0                     100.0                 80.0     48,60%      33,30%   \n",
       "1                     100.0                 80.0     48,60%      32,50%   \n",
       "2                     100.0                 80.0     48,60%      32,90%   \n",
       "3                     100.0                 80.0     48,60%      32,50%   \n",
       "4                     100.0                 80.0     48,60%      32,90%   \n",
       "\n",
       "   AMBIENT_AIR_TEMP  ENGINE_RPM  INTAKE_MANIFOLD_PRESSURE   MAF  \\\n",
       "0               NaN      1009.0                      49.0  4,49   \n",
       "1               NaN      1003.0                      52.0  4,51   \n",
       "2               NaN       995.0                      51.0  4,48   \n",
       "3               NaN      1004.0                      51.0  4,51   \n",
       "4               NaN      1005.0                      49.0  4,49   \n",
       "\n",
       "  LONG TERM FUEL TRIM BANK 2          FUEL_TYPE  AIR_INTAKE_TEMP  \\\n",
       "0                        NaN  Biodiesel_Ethanol             59.0   \n",
       "1                        NaN  Biodiesel_Ethanol             59.0   \n",
       "2                        NaN  Biodiesel_Ethanol             59.0   \n",
       "3                        NaN  Biodiesel_Ethanol             60.0   \n",
       "4                        NaN  Biodiesel_Ethanol             60.0   \n",
       "\n",
       "   FUEL_PRESSURE  SPEED SHORT TERM FUEL TRIM BANK 2  \\\n",
       "0            NaN    0.0                         NaN   \n",
       "1            NaN    0.0                         NaN   \n",
       "2            NaN    0.0                         NaN   \n",
       "3            NaN    0.0                         NaN   \n",
       "4            NaN    0.0                         NaN   \n",
       "\n",
       "  SHORT TERM FUEL TRIM BANK 1 ENGINE_RUNTIME THROTTLE_POS         DTC_NUMBER  \\\n",
       "0                         NaN       00:03:28          25%  MIL is OFF0 codes   \n",
       "1                         NaN       00:03:35          25%  MIL is OFF0 codes   \n",
       "2                         NaN       00:03:43          25%  MIL is OFF0 codes   \n",
       "3                         NaN       00:03:51          25%  MIL is OFF0 codes   \n",
       "4                         NaN       00:03:59          25%  MIL is OFF0 codes   \n",
       "\n",
       "  TROUBLE_CODES TIMING_ADVANCE EQUIV_RATIO   MIN  HOURS  DAYS_OF_WEEK  MONTHS  \\\n",
       "0           NaN          56,9%        1,0%  13.0   16.0           2.0     8.0   \n",
       "1           NaN          56,5%        1,0%  13.0   16.0           2.0     8.0   \n",
       "2           NaN          57,3%        1,0%  13.0   16.0           2.0     8.0   \n",
       "3           NaN          56,5%        1,0%  13.0   16.0           2.0     8.0   \n",
       "4           NaN          56,9%        1,0%  13.0   16.0           2.0     8.0   \n",
       "\n",
       "     YEAR  \n",
       "0  2017.0  \n",
       "1  2017.0  \n",
       "2  2017.0  \n",
       "3  2017.0  \n",
       "4  2017.0  "
      ]
     },
     "execution_count": 3,
     "metadata": {},
     "output_type": "execute_result"
    }
   ],
   "source": [
    "# viewing the dataset\n",
    "data.head()"
   ]
  },
  {
   "cell_type": "code",
   "execution_count": 4,
   "id": "d013ee24",
   "metadata": {},
   "outputs": [
    {
     "name": "stdout",
     "output_type": "stream",
     "text": [
      "<class 'pandas.core.frame.DataFrame'>\n",
      "RangeIndex: 60439 entries, 0 to 60438\n",
      "Data columns (total 33 columns):\n",
      " #   Column                       Non-Null Count  Dtype  \n",
      "---  ------                       --------------  -----  \n",
      " 0   TIMESTAMP                    47514 non-null  float64\n",
      " 1   MARK                         47459 non-null  object \n",
      " 2   MODEL                        47459 non-null  object \n",
      " 3   CAR_YEAR                     47459 non-null  float64\n",
      " 4   ENGINE_POWER                 47459 non-null  object \n",
      " 5   AUTOMATIC                    47459 non-null  object \n",
      " 6   VEHICLE_ID                   47514 non-null  object \n",
      " 7   BAROMETRIC_PRESSURE(KPA)     10212 non-null  float64\n",
      " 8   ENGINE_COOLANT_TEMP          33964 non-null  float64\n",
      " 9   FUEL_LEVEL                   2994 non-null   object \n",
      " 10  ENGINE_LOAD                  30972 non-null  object \n",
      " 11  AMBIENT_AIR_TEMP             3619 non-null   float64\n",
      " 12  ENGINE_RPM                   33859 non-null  float64\n",
      " 13  INTAKE_MANIFOLD_PRESSURE     25089 non-null  float64\n",
      " 14  MAF                          11828 non-null  object \n",
      " 15  LONG TERM FUEL TRIM BANK 2   13070 non-null  object \n",
      " 16  FUEL_TYPE                    20005 non-null  object \n",
      " 17  AIR_INTAKE_TEMP              34352 non-null  float64\n",
      " 18  FUEL_PRESSURE                138 non-null    float64\n",
      " 19  SPEED                        46529 non-null  float64\n",
      " 20  SHORT TERM FUEL TRIM BANK 2  13070 non-null  object \n",
      " 21  SHORT TERM FUEL TRIM BANK 1  37595 non-null  object \n",
      " 22  ENGINE_RUNTIME               11902 non-null  object \n",
      " 23  THROTTLE_POS                 33859 non-null  object \n",
      " 24  DTC_NUMBER                   47142 non-null  object \n",
      " 25  TROUBLE_CODES                11925 non-null  object \n",
      " 26  TIMING_ADVANCE               34162 non-null  object \n",
      " 27  EQUIV_RATIO                  11896 non-null  object \n",
      " 28  MIN                          47512 non-null  float64\n",
      " 29  HOURS                        47512 non-null  float64\n",
      " 30  DAYS_OF_WEEK                 47512 non-null  float64\n",
      " 31  MONTHS                       47512 non-null  float64\n",
      " 32  YEAR                         47512 non-null  float64\n",
      "dtypes: float64(15), object(18)\n",
      "memory usage: 15.2+ MB\n"
     ]
    }
   ],
   "source": [
    "data.info()"
   ]
  },
  {
   "cell_type": "markdown",
   "id": "36354cda",
   "metadata": {},
   "source": [
    "### Here are the explanations for the provided OBD-II (On-Board Diagnostics) codes:\n",
    "\n",
    "P-Codes (Powertrain)\n",
    "P0133 - O2 Sensor Circuit Slow Response (Bank 1, Sensor 1)\n",
    "This code indicates that the oxygen sensor (upstream of the catalytic converter) is not responding as expected. It suggests that the sensor is too slow in responding to changes in the oxygen levels in the exhaust, which could affect engine performance and emissions.\n",
    "\n",
    "P0079 - Exhaust Valve Control Solenoid Circuit Low (Bank 1)\n",
    "This code refers to an issue with the exhaust valve control solenoid, specifically that the circuit has a low voltage or is malfunctioning.\n",
    "\n",
    "P2004 - Intake Manifold Runner Control Stuck Open (Bank 1)\n",
    "This code points to a malfunction with the intake manifold runner control system. The runner is stuck in the open position, which could affect engine efficiency.\n",
    "\n",
    "P3000 - Battery Control System Malfunction\n",
    "This code is often related to hybrid vehicles and refers to a problem with the battery control system. It usually requires further diagnostics to pinpoint the exact cause.\n",
    "\n",
    "P0078 - Exhaust Valve Control Solenoid Circuit (Bank 1)\n",
    "Similar to P0079, but this code doesn't specifically mention a low or high voltage, just a general fault with the exhaust valve control solenoid circuit.\n",
    "\n",
    "P007E - Charge Air Cooler Temperature Sensor Circuit Range/Performance\n",
    "This code relates to the temperature sensor in the charge air cooler, indicating that the sensor is out of its expected range or performance is degraded.\n",
    "\n",
    "P007F - Charge Air Cooler Temperature Sensor Circuit High\n",
    "This code indicates an abnormally high reading from the charge air cooler temperature sensor.\n",
    "\n",
    "P18F0 - Invalid Data Received from Powertrain Control Module (PCM)\n",
    "This code suggests that the Powertrain Control Module has received data that it deems invalid, likely due to a sensor or communication issue.\n",
    "\n",
    "P18D0 - Engine Coolant Pump Relay Control Circuit/Open\n",
    "This code refers to a malfunction with the engine coolant pump relay, specifically an open circuit or faulty control.\n",
    "\n",
    "P18E0 - Fuel Pressure Regulator Performance\n",
    "Indicates a malfunction with the fuel pressure regulator, often related to maintaining optimal fuel pressure for engine performance.\n",
    "\n",
    "P2036 - Exhaust Gas Temperature Sensor Circuit Range/Performance (Bank 1 Sensor 2)\n",
    "This code is related to the exhaust gas temperature sensor, which monitors the temperature of the exhaust gas. A fault here could affect emissions and engine performance.\n",
    "\n",
    "C-Codes (Chassis)\n",
    "C0300 - Rear Wheel Speed Sensor Malfunction\n",
    "This code typically indicates a problem with one of the rear wheel speed sensors, often related to the Anti-lock Braking System (ABS).\n",
    "\n",
    "U-Codes (Network/Communication)\n",
    "U1004 - CAN Bus Communication Error\n",
    "This code is related to a communication problem between modules on the CAN (Controller Area Network) bus, typically meaning that one of the modules is not communicating properly with others.\n",
    "\n",
    "B-Codes (Body)\n",
    "B0004 - Driver’s Seatbelt Pretensioner Deployment Control Circuit Low\n",
    "This code indicates an issue with the driver's seatbelt pretensioner circuit, specifically low voltage or a malfunction, which could affect the deployment of the pretensioner during a crash."
   ]
  },
  {
   "cell_type": "code",
   "execution_count": 5,
   "id": "971e78ed",
   "metadata": {},
   "outputs": [],
   "source": [
    "# Use one-hot encoding to create a binary column for each unique trouble code\n",
    "df_encoded = pd.get_dummies(data['TROUBLE_CODES'], prefix='code')"
   ]
  },
  {
   "cell_type": "code",
   "execution_count": 6,
   "id": "f967940c",
   "metadata": {},
   "outputs": [
    {
     "data": {
      "text/html": [
       "<div>\n",
       "<style scoped>\n",
       "    .dataframe tbody tr th:only-of-type {\n",
       "        vertical-align: middle;\n",
       "    }\n",
       "\n",
       "    .dataframe tbody tr th {\n",
       "        vertical-align: top;\n",
       "    }\n",
       "\n",
       "    .dataframe thead th {\n",
       "        text-align: right;\n",
       "    }\n",
       "</style>\n",
       "<table border=\"1\" class=\"dataframe\">\n",
       "  <thead>\n",
       "    <tr style=\"text-align: right;\">\n",
       "      <th></th>\n",
       "      <th>code_C0300</th>\n",
       "      <th>code_P0078B0004P3000</th>\n",
       "      <th>code_P0078U1004P3000</th>\n",
       "      <th>code_P0079C1004P3000</th>\n",
       "      <th>code_P0079P1004P3000</th>\n",
       "      <th>code_P0079P2004P3000</th>\n",
       "      <th>code_P007EP2036P18D0</th>\n",
       "      <th>code_P007EP2036P18E0</th>\n",
       "      <th>code_P007EP2036P18F0</th>\n",
       "      <th>code_P007FP2036P18D0</th>\n",
       "      <th>code_P007FP2036P18E0</th>\n",
       "      <th>code_P007FP2036P18F0</th>\n",
       "      <th>code_P0133</th>\n",
       "    </tr>\n",
       "  </thead>\n",
       "  <tbody>\n",
       "    <tr>\n",
       "      <th>0</th>\n",
       "      <td>0</td>\n",
       "      <td>0</td>\n",
       "      <td>0</td>\n",
       "      <td>0</td>\n",
       "      <td>0</td>\n",
       "      <td>0</td>\n",
       "      <td>0</td>\n",
       "      <td>0</td>\n",
       "      <td>0</td>\n",
       "      <td>0</td>\n",
       "      <td>0</td>\n",
       "      <td>0</td>\n",
       "      <td>0</td>\n",
       "    </tr>\n",
       "    <tr>\n",
       "      <th>1</th>\n",
       "      <td>0</td>\n",
       "      <td>0</td>\n",
       "      <td>0</td>\n",
       "      <td>0</td>\n",
       "      <td>0</td>\n",
       "      <td>0</td>\n",
       "      <td>0</td>\n",
       "      <td>0</td>\n",
       "      <td>0</td>\n",
       "      <td>0</td>\n",
       "      <td>0</td>\n",
       "      <td>0</td>\n",
       "      <td>0</td>\n",
       "    </tr>\n",
       "    <tr>\n",
       "      <th>2</th>\n",
       "      <td>0</td>\n",
       "      <td>0</td>\n",
       "      <td>0</td>\n",
       "      <td>0</td>\n",
       "      <td>0</td>\n",
       "      <td>0</td>\n",
       "      <td>0</td>\n",
       "      <td>0</td>\n",
       "      <td>0</td>\n",
       "      <td>0</td>\n",
       "      <td>0</td>\n",
       "      <td>0</td>\n",
       "      <td>0</td>\n",
       "    </tr>\n",
       "    <tr>\n",
       "      <th>3</th>\n",
       "      <td>0</td>\n",
       "      <td>0</td>\n",
       "      <td>0</td>\n",
       "      <td>0</td>\n",
       "      <td>0</td>\n",
       "      <td>0</td>\n",
       "      <td>0</td>\n",
       "      <td>0</td>\n",
       "      <td>0</td>\n",
       "      <td>0</td>\n",
       "      <td>0</td>\n",
       "      <td>0</td>\n",
       "      <td>0</td>\n",
       "    </tr>\n",
       "    <tr>\n",
       "      <th>4</th>\n",
       "      <td>0</td>\n",
       "      <td>0</td>\n",
       "      <td>0</td>\n",
       "      <td>0</td>\n",
       "      <td>0</td>\n",
       "      <td>0</td>\n",
       "      <td>0</td>\n",
       "      <td>0</td>\n",
       "      <td>0</td>\n",
       "      <td>0</td>\n",
       "      <td>0</td>\n",
       "      <td>0</td>\n",
       "      <td>0</td>\n",
       "    </tr>\n",
       "  </tbody>\n",
       "</table>\n",
       "</div>"
      ],
      "text/plain": [
       "   code_C0300  code_P0078B0004P3000  code_P0078U1004P3000  \\\n",
       "0           0                     0                     0   \n",
       "1           0                     0                     0   \n",
       "2           0                     0                     0   \n",
       "3           0                     0                     0   \n",
       "4           0                     0                     0   \n",
       "\n",
       "   code_P0079C1004P3000  code_P0079P1004P3000  code_P0079P2004P3000  \\\n",
       "0                     0                     0                     0   \n",
       "1                     0                     0                     0   \n",
       "2                     0                     0                     0   \n",
       "3                     0                     0                     0   \n",
       "4                     0                     0                     0   \n",
       "\n",
       "   code_P007EP2036P18D0  code_P007EP2036P18E0  code_P007EP2036P18F0  \\\n",
       "0                     0                     0                     0   \n",
       "1                     0                     0                     0   \n",
       "2                     0                     0                     0   \n",
       "3                     0                     0                     0   \n",
       "4                     0                     0                     0   \n",
       "\n",
       "   code_P007FP2036P18D0  code_P007FP2036P18E0  code_P007FP2036P18F0  \\\n",
       "0                     0                     0                     0   \n",
       "1                     0                     0                     0   \n",
       "2                     0                     0                     0   \n",
       "3                     0                     0                     0   \n",
       "4                     0                     0                     0   \n",
       "\n",
       "   code_P0133  \n",
       "0           0  \n",
       "1           0  \n",
       "2           0  \n",
       "3           0  \n",
       "4           0  "
      ]
     },
     "execution_count": 6,
     "metadata": {},
     "output_type": "execute_result"
    }
   ],
   "source": [
    "df_encoded.head()"
   ]
  },
  {
   "cell_type": "code",
   "execution_count": 7,
   "id": "78836b1f",
   "metadata": {},
   "outputs": [],
   "source": [
    "# add a column to indicate if any trouble code is present where 1=yes and 0=no\n",
    "df_encoded['any_trouble_code'] = df_encoded[['code_C0300',\n",
    "                                             'code_P0078B0004P3000',\n",
    "                                             'code_P0078U1004P3000',\n",
    "                                             'code_P0079C1004P3000',\n",
    "                                             'code_P0079P1004P3000',\n",
    "                                             'code_P0079P2004P3000',\n",
    "                                             'code_P007EP2036P18D0',\n",
    "                                             'code_P007EP2036P18E0',\n",
    "                                             'code_P007EP2036P18F0',\n",
    "                                             'code_P007FP2036P18D0',\n",
    "                                             'code_P007FP2036P18E0',\n",
    "                                             'code_P007FP2036P18F0',\n",
    "                                             'code_P0133']].max(axis=1)"
   ]
  },
  {
   "cell_type": "code",
   "execution_count": 8,
   "id": "f3f84c85",
   "metadata": {},
   "outputs": [],
   "source": [
    "df_encoded['maintenance_required']= df_encoded['any_trouble_code'].apply(lambda x:'yes' if x == 1 else 'no')"
   ]
  },
  {
   "cell_type": "code",
   "execution_count": 9,
   "id": "eefc9fa4",
   "metadata": {},
   "outputs": [
    {
     "data": {
      "text/html": [
       "<div>\n",
       "<style scoped>\n",
       "    .dataframe tbody tr th:only-of-type {\n",
       "        vertical-align: middle;\n",
       "    }\n",
       "\n",
       "    .dataframe tbody tr th {\n",
       "        vertical-align: top;\n",
       "    }\n",
       "\n",
       "    .dataframe thead th {\n",
       "        text-align: right;\n",
       "    }\n",
       "</style>\n",
       "<table border=\"1\" class=\"dataframe\">\n",
       "  <thead>\n",
       "    <tr style=\"text-align: right;\">\n",
       "      <th></th>\n",
       "      <th>code_C0300</th>\n",
       "      <th>code_P0078B0004P3000</th>\n",
       "      <th>code_P0078U1004P3000</th>\n",
       "      <th>code_P0079C1004P3000</th>\n",
       "      <th>code_P0079P1004P3000</th>\n",
       "      <th>code_P0079P2004P3000</th>\n",
       "      <th>code_P007EP2036P18D0</th>\n",
       "      <th>code_P007EP2036P18E0</th>\n",
       "      <th>code_P007EP2036P18F0</th>\n",
       "      <th>code_P007FP2036P18D0</th>\n",
       "      <th>code_P007FP2036P18E0</th>\n",
       "      <th>code_P007FP2036P18F0</th>\n",
       "      <th>code_P0133</th>\n",
       "      <th>any_trouble_code</th>\n",
       "      <th>maintenance_required</th>\n",
       "    </tr>\n",
       "  </thead>\n",
       "  <tbody>\n",
       "    <tr>\n",
       "      <th>0</th>\n",
       "      <td>0</td>\n",
       "      <td>0</td>\n",
       "      <td>0</td>\n",
       "      <td>0</td>\n",
       "      <td>0</td>\n",
       "      <td>0</td>\n",
       "      <td>0</td>\n",
       "      <td>0</td>\n",
       "      <td>0</td>\n",
       "      <td>0</td>\n",
       "      <td>0</td>\n",
       "      <td>0</td>\n",
       "      <td>0</td>\n",
       "      <td>0</td>\n",
       "      <td>no</td>\n",
       "    </tr>\n",
       "    <tr>\n",
       "      <th>1</th>\n",
       "      <td>0</td>\n",
       "      <td>0</td>\n",
       "      <td>0</td>\n",
       "      <td>0</td>\n",
       "      <td>0</td>\n",
       "      <td>0</td>\n",
       "      <td>0</td>\n",
       "      <td>0</td>\n",
       "      <td>0</td>\n",
       "      <td>0</td>\n",
       "      <td>0</td>\n",
       "      <td>0</td>\n",
       "      <td>0</td>\n",
       "      <td>0</td>\n",
       "      <td>no</td>\n",
       "    </tr>\n",
       "    <tr>\n",
       "      <th>2</th>\n",
       "      <td>0</td>\n",
       "      <td>0</td>\n",
       "      <td>0</td>\n",
       "      <td>0</td>\n",
       "      <td>0</td>\n",
       "      <td>0</td>\n",
       "      <td>0</td>\n",
       "      <td>0</td>\n",
       "      <td>0</td>\n",
       "      <td>0</td>\n",
       "      <td>0</td>\n",
       "      <td>0</td>\n",
       "      <td>0</td>\n",
       "      <td>0</td>\n",
       "      <td>no</td>\n",
       "    </tr>\n",
       "    <tr>\n",
       "      <th>3</th>\n",
       "      <td>0</td>\n",
       "      <td>0</td>\n",
       "      <td>0</td>\n",
       "      <td>0</td>\n",
       "      <td>0</td>\n",
       "      <td>0</td>\n",
       "      <td>0</td>\n",
       "      <td>0</td>\n",
       "      <td>0</td>\n",
       "      <td>0</td>\n",
       "      <td>0</td>\n",
       "      <td>0</td>\n",
       "      <td>0</td>\n",
       "      <td>0</td>\n",
       "      <td>no</td>\n",
       "    </tr>\n",
       "    <tr>\n",
       "      <th>4</th>\n",
       "      <td>0</td>\n",
       "      <td>0</td>\n",
       "      <td>0</td>\n",
       "      <td>0</td>\n",
       "      <td>0</td>\n",
       "      <td>0</td>\n",
       "      <td>0</td>\n",
       "      <td>0</td>\n",
       "      <td>0</td>\n",
       "      <td>0</td>\n",
       "      <td>0</td>\n",
       "      <td>0</td>\n",
       "      <td>0</td>\n",
       "      <td>0</td>\n",
       "      <td>no</td>\n",
       "    </tr>\n",
       "  </tbody>\n",
       "</table>\n",
       "</div>"
      ],
      "text/plain": [
       "   code_C0300  code_P0078B0004P3000  code_P0078U1004P3000  \\\n",
       "0           0                     0                     0   \n",
       "1           0                     0                     0   \n",
       "2           0                     0                     0   \n",
       "3           0                     0                     0   \n",
       "4           0                     0                     0   \n",
       "\n",
       "   code_P0079C1004P3000  code_P0079P1004P3000  code_P0079P2004P3000  \\\n",
       "0                     0                     0                     0   \n",
       "1                     0                     0                     0   \n",
       "2                     0                     0                     0   \n",
       "3                     0                     0                     0   \n",
       "4                     0                     0                     0   \n",
       "\n",
       "   code_P007EP2036P18D0  code_P007EP2036P18E0  code_P007EP2036P18F0  \\\n",
       "0                     0                     0                     0   \n",
       "1                     0                     0                     0   \n",
       "2                     0                     0                     0   \n",
       "3                     0                     0                     0   \n",
       "4                     0                     0                     0   \n",
       "\n",
       "   code_P007FP2036P18D0  code_P007FP2036P18E0  code_P007FP2036P18F0  \\\n",
       "0                     0                     0                     0   \n",
       "1                     0                     0                     0   \n",
       "2                     0                     0                     0   \n",
       "3                     0                     0                     0   \n",
       "4                     0                     0                     0   \n",
       "\n",
       "   code_P0133  any_trouble_code maintenance_required  \n",
       "0           0                 0                   no  \n",
       "1           0                 0                   no  \n",
       "2           0                 0                   no  \n",
       "3           0                 0                   no  \n",
       "4           0                 0                   no  "
      ]
     },
     "execution_count": 9,
     "metadata": {},
     "output_type": "execute_result"
    }
   ],
   "source": [
    "df_encoded.head()"
   ]
  },
  {
   "cell_type": "code",
   "execution_count": 10,
   "id": "32b171e0",
   "metadata": {},
   "outputs": [],
   "source": [
    "# extract the maintenance column\n",
    "maintenance_required = df_encoded[['maintenance_required']]"
   ]
  },
  {
   "cell_type": "code",
   "execution_count": 11,
   "id": "eba78306",
   "metadata": {},
   "outputs": [],
   "source": [
    "# Concatenate the maintenance column with the original DataFrame\n",
    "data = pd.concat([data, maintenance_required], axis=1)"
   ]
  },
  {
   "cell_type": "markdown",
   "id": "631c449c",
   "metadata": {},
   "source": [
    "#### LOOKING AT SOME UNIQUE VALUES"
   ]
  },
  {
   "cell_type": "code",
   "execution_count": 12,
   "id": "c99e02da",
   "metadata": {},
   "outputs": [
    {
     "name": "stdout",
     "output_type": "stream",
     "text": [
      "Number of Unique IDS: ['25%' '26%' '22%' '32%' '24%' '27%' '30%' '33%' '29%' '23%' '31%' '28%'\n",
      " '35%' '45%' '21%' nan '84%' '34%' '37%' '53%' '36%' '55%' '15%' '41%'\n",
      " '38%' '58%' '46%' '64%' '40%' '71%' '48%' '47%' '50%' '44%' '51%' '49%'\n",
      " '56%' '52%' '39%' '60%' '43%' '42%' '17%' '63%' '20%' '18%' '19%' '62%'\n",
      " '59%' '13%' '14%' '16%' '12%' '78%' '11%' '4%' '3%' '8%' '7%' '10%' '5%'\n",
      " '6%' '9%' '2%' '68%' '69%' '87%' '74%' '82%' '73%' '77%' '66%' '86%'\n",
      " '65%' '85%' '67%' '1%' '80%' '76%' '57%' '72%' '54%']\n"
     ]
    }
   ],
   "source": [
    "print(f\"Number of Unique IDS: {data['THROTTLE_POS'].unique()}\")"
   ]
  },
  {
   "cell_type": "code",
   "execution_count": 13,
   "id": "d137930b",
   "metadata": {},
   "outputs": [
    {
     "name": "stdout",
     "output_type": "stream",
     "text": [
      "Number of Unique IDS: ['48,60%' '51,00%' '49,80%' '50,60%' '49,40%' '49,00%' '47,10%' '47,80%'\n",
      " '48,20%' '47,50%' '45,10%' '44,30%' '44,70%' '46,30%' '46,70%' '40,80%'\n",
      " '36,90%' '36,50%' '35,70%' '34,50%' '34,90%' '37,30%' '38,00%' '39,20%'\n",
      " '37,60%' '45,50%' '43,90%' '41,20%' '38,40%' '38,80%' '36,10%' '30,20%'\n",
      " '35,30%' '41,60%' '40,40%' '43,10%' '50,20%' '53,70%' '51,80%' '40,00%'\n",
      " '33,30%' '32,20%' '34,10%' '33,70%' '32,90%' nan '39,60%' '43,50%'\n",
      " '42,00%' '45,90%' '32,50%' '42,40%' '56,10%' '56,90%' '55,30%' '54,50%'\n",
      " '51,40%' '52,20%' '42,70%' '29,80%' '28,60%' '31,00%' '31,80%' '31,40%'\n",
      " '30,60%' '52,90%' '28,20%' '14,10%' '13,70%' '17,30%' '18,00%' '18,40%'\n",
      " '22,40%' '20,80%' '21,20%' '17,60%' '14,50%' '16,10%' '16,50%' '16,90%'\n",
      " '20,40%' '23,50%' '25,50%' '25,90%' '26,30%' '25,10%' '24,30%' '24,70%'\n",
      " '27,80%' '27,50%' '22,70%' '26,70%' '22,00%' '20,00%' '19,20%' '19,60%'\n",
      " '18,80%' '23,10%' '23,90%' '21,60%' '29,40%' '29,00%' '27,10%' '14,90%'\n",
      " '15,70%' '15,30%' '13,30%' '12,90%' '11,00%' '11,40%' '11,80%' '12,50%'\n",
      " '12,20%' '8,60%' '9,00%' '7,50%' '6,70%' '10,20%' '9,40%' '9,80%' '7,80%'\n",
      " '7,10%' '6,30%' '5,50%' '5,10%' '8,20%' '10,60%' '5,90%' '65,10%'\n",
      " '65,90%' '65,50%' '66,30%' '64,30%' '60,00%' '53,30%' '58,80%' '71,00%'\n",
      " '72,90%' '74,50%' '81,20%' '74,10%' '74,90%' '76,50%' '75,70%' '75,30%'\n",
      " '73,30%' '76,90%' '66,70%' '73,70%' '77,30%' '78,00%' '79,20%' '67,80%'\n",
      " '63,90%' '69,80%' '69,40%' '70,60%' '71,40%' '71,80%' '68,20%' '62,00%'\n",
      " '56,50%' '59,60%' '60,80%' '70,20%' '63,50%' '69,00%' '72,20%' '62,40%'\n",
      " '61,20%' '60,40%' '61,60%' '63,10%' '64,70%' '67,50%' '67,10%' '62,70%'\n",
      " '72,50%' '59,20%' '58,00%' '52,50%' '54,10%' '57,60%' '58,40%' '54,90%'\n",
      " '57,30%' '76,10%' '77,60%' '79,60%' '80,00%' '78,80%' '78,40%' '80,40%'\n",
      " '80,80%' '68,60%' '55,70%']\n"
     ]
    }
   ],
   "source": [
    "print(f\"Number of Unique IDS: {data['FUEL_LEVEL'].unique()}\")"
   ]
  },
  {
   "cell_type": "code",
   "execution_count": 14,
   "id": "6a29eacd",
   "metadata": {},
   "outputs": [
    {
     "name": "stdout",
     "output_type": "stream",
     "text": [
      "Number of Unique IDS: ['56,9%' '56,5%' '57,3%' '58,4%' '55,7%' '56,1%' '60,0%' '77,6%' '53,7%'\n",
      " '54,9%' '59,6%' '53,3%' '58,8%' '58,0%' '57,6%' '71,4%' '55,3%' '48,6%'\n",
      " '51,8%' '67,5%' '52,9%' '63,5%' '68,6%' '65,1%' '65,9%' '67,1%' '67,8%'\n",
      " '69,4%' '70,2%' '52,2%' '54,1%' '66,7%' '70,6%' '71,8%' '62,4%' '72,2%'\n",
      " '59,2%' '62,7%' '49,0%' '61,6%' '47,8%' '64,7%' '68,2%' '79,6%' '51,0%'\n",
      " '75,7%' '61,2%' '63,9%' '72,5%' '51,4%' '71,0%' '76,9%' '72,9%' '66,3%'\n",
      " '74,5%' '74,1%' '64,3%' '65,5%' nan '73,3%' '52,5%' '63,1%' '60,8%'\n",
      " '74,9%' '69,8%' '50,6%' '78,0%' '69,0%' '50,2%' '48,2%' '54,5%' '80,8%'\n",
      " '73,7%' '62,0%' '79,2%' '76,5%' '78,8%' '49,4%' '75,3%' '60,4%' '77,3%'\n",
      " '80,4%' '78,4%' '76,1%' '49,8%' '44,7%' '80,0%' '38,8%' '45,9%' '47,5%'\n",
      " '43,5%' '44,3%' '85,1%' '6,3%' '83,5%' '84,3%' '47,1%' '38,4%' '46,7%'\n",
      " '43,1%' '40,8%' '42,4%' '45,5%' '41,2%' '39,6%' '42,0%' '40,0%' '29,8%'\n",
      " '22,7%' '31,8%' '30,2%' '36,9%' '37,3%' '32,2%' '28,2%' '29,4%' '33,7%'\n",
      " '20,0%' '24,3%' '21,6%' '39,2%' '35,7%' '22,4%' '31,0%' '18,0%' '19,2%'\n",
      " '19,6%' '29,0%' '30,6%' '46,3%' '20,8%' '31,4%' '18,4%' '17,6%' '32,9%'\n",
      " '36,5%' '27,8%' '34,9%' '18,8%' '16,9%' '35,3%' '37,6%' '26,3%' '41,6%'\n",
      " '24,7%' '33,3%' '34,5%' '21,2%' '43,9%' '38,0%' '25,5%' '32,5%' '28,6%'\n",
      " '27,5%' '34,1%' '25,1%' '23,5%' '20,4%' '40,4%' '27,1%' '36,1%' '12,9%'\n",
      " '22,0%' '15,3%' '25,9%' '26,7%' '16,1%' '8,6%' '45,1%' '10,6%' '23,9%'\n",
      " '9,0%' '16,5%' '42,7%' '23,1%' '13,7%' '4,7%' '17,3%' '15,7%' '8,2%'\n",
      " '11,8%' '10,2%' '13,3%' '11,0%' '9,8%' '14,5%' '3,5%' '11,4%' '14,9%'\n",
      " '14,1%' '4,3%' '12,2%' '82,0%' '81,2%' '82,7%' '82,4%' '1,2%' '2,7%'\n",
      " '1,6%' '3,1%' '7,5%' '6,7%' '2,4%' '5,5%' '2,0%' '7,8%' '5,1%' '12,5%'\n",
      " '3,9%' '0,8%' '5,9%' '9,4%' '0,4%' '7,1%' '83,1%' '81,6%' '87,8%' '83,9%'\n",
      " '85,5%']\n"
     ]
    }
   ],
   "source": [
    "print(f\"Number of Unique IDS: {data['TIMING_ADVANCE'].unique()}\")"
   ]
  },
  {
   "cell_type": "code",
   "execution_count": 15,
   "id": "897d96c4",
   "metadata": {},
   "outputs": [
    {
     "name": "stdout",
     "output_type": "stream",
     "text": [
      "Number of Unique IDS: ['1,0%' nan]\n"
     ]
    }
   ],
   "source": [
    "print(f\"Number of Unique IDS: {data['EQUIV_RATIO'].unique()}\")"
   ]
  },
  {
   "cell_type": "code",
   "execution_count": 16,
   "id": "7888e795",
   "metadata": {},
   "outputs": [
    {
     "name": "stdout",
     "output_type": "stream",
     "text": [
      "Number of Unique IDS: ['MIL is OFF0 codes' nan 'MIL is OFF107 codes' 'MIL is ON0 codes'\n",
      " 'MIL is OFF65 codes' 'MIL is OFF1 codes' 'MIL is OFF16 codes'\n",
      " 'MIL is OFF8 codes']\n"
     ]
    }
   ],
   "source": [
    "print(f\"Number of Unique IDS: {data['DTC_NUMBER'].unique()}\")"
   ]
  },
  {
   "cell_type": "code",
   "execution_count": 17,
   "id": "43fa4841",
   "metadata": {},
   "outputs": [
    {
     "name": "stdout",
     "output_type": "stream",
     "text": [
      "Number of Unique IDS: ['n' nan 's']\n"
     ]
    }
   ],
   "source": [
    "print(f\"Number of Unique IDS: {data['AUTOMATIC'].unique()}\")"
   ]
  },
  {
   "cell_type": "code",
   "execution_count": 18,
   "id": "f3195777",
   "metadata": {},
   "outputs": [
    {
     "name": "stdout",
     "output_type": "stream",
     "text": [
      "Number of Unique IDS: ['Biodiesel_Ethanol' nan 'Biodiesel_Gasoline']\n"
     ]
    }
   ],
   "source": [
    "print(f\"Number of Unique IDS: {data['FUEL_TYPE'].unique()}\")"
   ]
  },
  {
   "cell_type": "code",
   "execution_count": 19,
   "id": "e042aa6b",
   "metadata": {},
   "outputs": [
    {
     "name": "stdout",
     "output_type": "stream",
     "text": [
      "Number of Unique IDS: [nan '-100%' '-2,30%' '-9,40%' '-13,30%' '-12,50%' '-14,80%' '-8,60%'\n",
      " '-10,90%' '-11,70%' '-6,20%' '-7,80%' '-7,00%' '-10,20%' '-5,50%'\n",
      " '-1,60%' '-14,10%' '-3,10%' '-3,90%' '-4,70%' '-87,50%' '-49,20%']\n"
     ]
    }
   ],
   "source": [
    "print(f\"Number of Unique IDS: {data['LONG TERM FUEL TRIM BANK 2'].unique()}\")"
   ]
  },
  {
   "cell_type": "code",
   "execution_count": 20,
   "id": "82fcca08",
   "metadata": {},
   "outputs": [
    {
     "name": "stdout",
     "output_type": "stream",
     "text": [
      "Number of Unique IDS: [  0.   8.   4.   9.   6.   5.  19.  25.  28.  23.  16.  33.  40.  36.\n",
      "  39.  42.  48.  51.  37.  15.  11.  21.  34.  27.  35.  49.  46.  32.\n",
      "  22.  13.  18.  45.  20.  47.  38.  14.  17.   3.   2.  nan   7.  43.\n",
      "  24.  41.  12.  10.  26.  44.  52.  54.  53.  56.  57.  55.  50.  31.\n",
      "  30.   1.  59.  64.  63.  65.  71.  29.  60.  62.  61.  66.  68.  58.\n",
      "  67.  72.  70.  73.  75.  78.  79.  81.  74.  69.  86.  87.  76.  89.\n",
      "  77.  85.  84.  82.  80.  83.  91.  92.  90.  94.  93.  95.  97.  96.\n",
      "  99. 100.  98.  88. 101. 102. 105. 103. 104. 106. 108. 110. 119. 111.\n",
      " 117. 113. 115. 109. 112. 114. 107. 116. 118. 125. 127. 130. 131. 132.\n",
      " 136. 129. 120. 123. 121. 122. 124. 128. 126. 141. 134. 135. 142. 143.\n",
      " 137. 133. 138. 139. 140.]\n"
     ]
    }
   ],
   "source": [
    "print(f\"Number of Unique IDS: {data['SPEED'].unique()}\")"
   ]
  },
  {
   "cell_type": "markdown",
   "id": "40ca1d13",
   "metadata": {},
   "source": [
    "#### DROPPING REDUNDANT COLUMNS"
   ]
  },
  {
   "cell_type": "code",
   "execution_count": 21,
   "id": "ce0bf670",
   "metadata": {},
   "outputs": [],
   "source": [
    "# list of columns to drop\n",
    "COLUMNS_TO_DROP = [\"TIMESTAMP\", \n",
    "                   \"VEHICLE_ID\",\n",
    "                   \"YEAR\", \n",
    "                   \"TROUBLE_CODES\", \n",
    "                   \"EQUIV_RATIO\", \n",
    "                   \"SPEED\",\n",
    "                   \"TROUBLE_CODES\"]"
   ]
  },
  {
   "cell_type": "code",
   "execution_count": 22,
   "id": "156b1c94",
   "metadata": {},
   "outputs": [],
   "source": [
    "# Drop columns\n",
    "data = data.drop(COLUMNS_TO_DROP, axis=1)"
   ]
  },
  {
   "cell_type": "markdown",
   "id": "30d8d2d6",
   "metadata": {},
   "source": [
    "# DATA PREPROCESSING/CLEANING"
   ]
  },
  {
   "cell_type": "markdown",
   "id": "93c764e1",
   "metadata": {},
   "source": [
    "#### TAKING CARE OF COLUMNS WITH WRONG DATA REPRESENTATION"
   ]
  },
  {
   "cell_type": "code",
   "execution_count": 23,
   "id": "e5574d58",
   "metadata": {},
   "outputs": [],
   "source": [
    "# replace commas(,) with dots and remove the percentage(%) sign and convert dtype to float, dividing the percentage by 100\n",
    "data[\"FUEL_LEVEL\"] = data[\"FUEL_LEVEL\"].str.replace(\",\", \".\").str.replace(\"%\", \"\").astype(float) / 100\n",
    "data[\"TIMING_ADVANCE\"] = data[\"TIMING_ADVANCE\"].str.replace(\",\", \".\").str.replace(\"%\", \"\").astype(float) / 100\n",
    "data[\"ENGINE_POWER\"] = data[\"ENGINE_POWER\"].str.replace(\",\", \".\").astype(float)\n",
    "data[\"ENGINE_LOAD\"] = data[\"ENGINE_LOAD\"].str.replace(\",\", \".\").str.replace(\"%\", \"\").astype(float) / 100\n",
    "data[\"MAF\"] = data[\"MAF\"].str.replace(\",\", \".\").astype(float)\n",
    "data[\"LONG TERM FUEL TRIM BANK 2\"] = data[\"LONG TERM FUEL TRIM BANK 2\"].str.replace(\"-\", \"\").str.replace(\",\", \".\").str.replace(\"%\", \"\").astype(float) / 100\n",
    "data[\"SHORT TERM FUEL TRIM BANK 1\"] = data[\"SHORT TERM FUEL TRIM BANK 1\"].str.replace(\"-\", \"\").str.replace(\",\", \".\").str.replace(\"%\", \"\").astype(float) / 100\n",
    "data[\"SHORT TERM FUEL TRIM BANK 2\"] = data[\"SHORT TERM FUEL TRIM BANK 2\"].str.replace(\"-\", \"\").str.replace(\",\", \".\").str.replace(\"%\", \"\").astype(float) / 100\n",
    "data[\"THROTTLE_POS\"] = data[\"THROTTLE_POS\"].str.replace(\"%\", \"\").astype(float)"
   ]
  },
  {
   "cell_type": "code",
   "execution_count": 24,
   "id": "32087baa",
   "metadata": {},
   "outputs": [],
   "source": [
    "# convert the runtime to a timedelta object and then to total seconds\n",
    "data[\"ENGINE_RUNTIME\"] = pd.to_timedelta(data[\"ENGINE_RUNTIME\"]).dt.total_seconds()"
   ]
  },
  {
   "cell_type": "markdown",
   "id": "0d4bbc33",
   "metadata": {},
   "source": [
    "#### LABEL ENCODER"
   ]
  },
  {
   "cell_type": "markdown",
   "id": "3f146c39",
   "metadata": {},
   "source": [
    "This is a preprocessing technique used to transform non-numerical labels into numerial labels. This process is necessary in machine learning because most machibe learning algorithms require input data in numerical format rather than strings or objects. Basically, label encoding converts each value in a column to a number. Label encoder one-hot encodes the categorical variables to numerical variables."
   ]
  },
  {
   "cell_type": "code",
   "execution_count": 25,
   "id": "4eb6086d",
   "metadata": {},
   "outputs": [],
   "source": [
    "# initializing the label encoder\n",
    "encoder = LabelEncoder()"
   ]
  },
  {
   "cell_type": "code",
   "execution_count": 26,
   "id": "61a395bd",
   "metadata": {},
   "outputs": [],
   "source": [
    "# This code encodes the features which are not numerical, for the machine learning model.\n",
    "data[\"DTC_NUMBER\"] = encoder.fit_transform(data[\"DTC_NUMBER\"])\n",
    "data[\"MARK\"] = encoder.fit_transform(data[\"MARK\"])\n",
    "data[\"MODEL\"] = encoder.fit_transform(data[\"MODEL\"])\n",
    "data[\"AUTOMATIC\"] = encoder.fit_transform(data[\"AUTOMATIC\"])\n",
    "data[\"FUEL_TYPE\"] = encoder.fit_transform(data[\"FUEL_TYPE\"])\n",
    "data[\"maintenance_required\"] = encoder.fit_transform(data[\"maintenance_required\"])"
   ]
  },
  {
   "cell_type": "markdown",
   "id": "1e53f25b",
   "metadata": {},
   "source": [
    "#### TREATING MISSING VALUES"
   ]
  },
  {
   "cell_type": "code",
   "execution_count": 27,
   "id": "bb1bee37",
   "metadata": {},
   "outputs": [],
   "source": [
    "data = data.apply(lambda col: col.fillna(col.mode()[0]))"
   ]
  },
  {
   "cell_type": "code",
   "execution_count": 28,
   "id": "66dfdca8",
   "metadata": {},
   "outputs": [],
   "source": [
    "columns_to_drop = [\"CAR_YEAR\", \n",
    "                   \"MARK\", \n",
    "                   \"BAROMETRIC_PRESSURE(KPA)\", \n",
    "                   \"ENGINE_COOLANT_TEMP\", \n",
    "                   \"AMBIENT_AIR_TEMP\", \n",
    "                   \"LONG TERM FUEL TRIM BANK 2\", \n",
    "                   \"FUEL_TYPE\", \n",
    "                   \"AIR_INTAKE_TEMP\", \n",
    "                   \"FUEL_PRESSURE\",\n",
    "                   \"DTC_NUMBER\"]"
   ]
  },
  {
   "cell_type": "code",
   "execution_count": 29,
   "id": "49cce6e4",
   "metadata": {},
   "outputs": [],
   "source": [
    "# Drop columns\n",
    "data = data.drop(columns_to_drop, axis=1)"
   ]
  },
  {
   "cell_type": "code",
   "execution_count": 30,
   "id": "17e467d0",
   "metadata": {},
   "outputs": [
    {
     "data": {
      "text/html": [
       "<div>\n",
       "<style scoped>\n",
       "    .dataframe tbody tr th:only-of-type {\n",
       "        vertical-align: middle;\n",
       "    }\n",
       "\n",
       "    .dataframe tbody tr th {\n",
       "        vertical-align: top;\n",
       "    }\n",
       "\n",
       "    .dataframe thead th {\n",
       "        text-align: right;\n",
       "    }\n",
       "</style>\n",
       "<table border=\"1\" class=\"dataframe\">\n",
       "  <thead>\n",
       "    <tr style=\"text-align: right;\">\n",
       "      <th></th>\n",
       "      <th>MODEL</th>\n",
       "      <th>ENGINE_POWER</th>\n",
       "      <th>AUTOMATIC</th>\n",
       "      <th>FUEL_LEVEL</th>\n",
       "      <th>ENGINE_LOAD</th>\n",
       "      <th>ENGINE_RPM</th>\n",
       "      <th>INTAKE_MANIFOLD_PRESSURE</th>\n",
       "      <th>MAF</th>\n",
       "      <th>SHORT TERM FUEL TRIM BANK 2</th>\n",
       "      <th>SHORT TERM FUEL TRIM BANK 1</th>\n",
       "      <th>ENGINE_RUNTIME</th>\n",
       "      <th>THROTTLE_POS</th>\n",
       "      <th>TIMING_ADVANCE</th>\n",
       "      <th>MIN</th>\n",
       "      <th>HOURS</th>\n",
       "      <th>DAYS_OF_WEEK</th>\n",
       "      <th>MONTHS</th>\n",
       "      <th>maintenance_required</th>\n",
       "    </tr>\n",
       "  </thead>\n",
       "  <tbody>\n",
       "    <tr>\n",
       "      <th>0</th>\n",
       "      <td>1</td>\n",
       "      <td>1.4</td>\n",
       "      <td>0</td>\n",
       "      <td>0.486</td>\n",
       "      <td>0.333</td>\n",
       "      <td>1009.0</td>\n",
       "      <td>49.0</td>\n",
       "      <td>4.49</td>\n",
       "      <td>1.0</td>\n",
       "      <td>1.0</td>\n",
       "      <td>208.0</td>\n",
       "      <td>25.0</td>\n",
       "      <td>0.569</td>\n",
       "      <td>13.0</td>\n",
       "      <td>16.0</td>\n",
       "      <td>2.0</td>\n",
       "      <td>8.0</td>\n",
       "      <td>0</td>\n",
       "    </tr>\n",
       "    <tr>\n",
       "      <th>1</th>\n",
       "      <td>1</td>\n",
       "      <td>1.4</td>\n",
       "      <td>0</td>\n",
       "      <td>0.486</td>\n",
       "      <td>0.325</td>\n",
       "      <td>1003.0</td>\n",
       "      <td>52.0</td>\n",
       "      <td>4.51</td>\n",
       "      <td>1.0</td>\n",
       "      <td>1.0</td>\n",
       "      <td>215.0</td>\n",
       "      <td>25.0</td>\n",
       "      <td>0.565</td>\n",
       "      <td>13.0</td>\n",
       "      <td>16.0</td>\n",
       "      <td>2.0</td>\n",
       "      <td>8.0</td>\n",
       "      <td>0</td>\n",
       "    </tr>\n",
       "    <tr>\n",
       "      <th>2</th>\n",
       "      <td>1</td>\n",
       "      <td>1.4</td>\n",
       "      <td>0</td>\n",
       "      <td>0.486</td>\n",
       "      <td>0.329</td>\n",
       "      <td>995.0</td>\n",
       "      <td>51.0</td>\n",
       "      <td>4.48</td>\n",
       "      <td>1.0</td>\n",
       "      <td>1.0</td>\n",
       "      <td>223.0</td>\n",
       "      <td>25.0</td>\n",
       "      <td>0.573</td>\n",
       "      <td>13.0</td>\n",
       "      <td>16.0</td>\n",
       "      <td>2.0</td>\n",
       "      <td>8.0</td>\n",
       "      <td>0</td>\n",
       "    </tr>\n",
       "    <tr>\n",
       "      <th>3</th>\n",
       "      <td>1</td>\n",
       "      <td>1.4</td>\n",
       "      <td>0</td>\n",
       "      <td>0.486</td>\n",
       "      <td>0.325</td>\n",
       "      <td>1004.0</td>\n",
       "      <td>51.0</td>\n",
       "      <td>4.51</td>\n",
       "      <td>1.0</td>\n",
       "      <td>1.0</td>\n",
       "      <td>231.0</td>\n",
       "      <td>25.0</td>\n",
       "      <td>0.565</td>\n",
       "      <td>13.0</td>\n",
       "      <td>16.0</td>\n",
       "      <td>2.0</td>\n",
       "      <td>8.0</td>\n",
       "      <td>0</td>\n",
       "    </tr>\n",
       "    <tr>\n",
       "      <th>4</th>\n",
       "      <td>1</td>\n",
       "      <td>1.4</td>\n",
       "      <td>0</td>\n",
       "      <td>0.486</td>\n",
       "      <td>0.329</td>\n",
       "      <td>1005.0</td>\n",
       "      <td>49.0</td>\n",
       "      <td>4.49</td>\n",
       "      <td>1.0</td>\n",
       "      <td>1.0</td>\n",
       "      <td>239.0</td>\n",
       "      <td>25.0</td>\n",
       "      <td>0.569</td>\n",
       "      <td>13.0</td>\n",
       "      <td>16.0</td>\n",
       "      <td>2.0</td>\n",
       "      <td>8.0</td>\n",
       "      <td>0</td>\n",
       "    </tr>\n",
       "  </tbody>\n",
       "</table>\n",
       "</div>"
      ],
      "text/plain": [
       "   MODEL  ENGINE_POWER  AUTOMATIC  FUEL_LEVEL  ENGINE_LOAD  ENGINE_RPM  \\\n",
       "0      1           1.4          0       0.486        0.333      1009.0   \n",
       "1      1           1.4          0       0.486        0.325      1003.0   \n",
       "2      1           1.4          0       0.486        0.329       995.0   \n",
       "3      1           1.4          0       0.486        0.325      1004.0   \n",
       "4      1           1.4          0       0.486        0.329      1005.0   \n",
       "\n",
       "   INTAKE_MANIFOLD_PRESSURE   MAF  SHORT TERM FUEL TRIM BANK 2  \\\n",
       "0                      49.0  4.49                          1.0   \n",
       "1                      52.0  4.51                          1.0   \n",
       "2                      51.0  4.48                          1.0   \n",
       "3                      51.0  4.51                          1.0   \n",
       "4                      49.0  4.49                          1.0   \n",
       "\n",
       "   SHORT TERM FUEL TRIM BANK 1  ENGINE_RUNTIME  THROTTLE_POS  TIMING_ADVANCE  \\\n",
       "0                          1.0           208.0          25.0           0.569   \n",
       "1                          1.0           215.0          25.0           0.565   \n",
       "2                          1.0           223.0          25.0           0.573   \n",
       "3                          1.0           231.0          25.0           0.565   \n",
       "4                          1.0           239.0          25.0           0.569   \n",
       "\n",
       "    MIN  HOURS  DAYS_OF_WEEK  MONTHS  maintenance_required  \n",
       "0  13.0   16.0           2.0     8.0                     0  \n",
       "1  13.0   16.0           2.0     8.0                     0  \n",
       "2  13.0   16.0           2.0     8.0                     0  \n",
       "3  13.0   16.0           2.0     8.0                     0  \n",
       "4  13.0   16.0           2.0     8.0                     0  "
      ]
     },
     "execution_count": 30,
     "metadata": {},
     "output_type": "execute_result"
    }
   ],
   "source": [
    "# viewing the preprocessed dataset\n",
    "data.head()"
   ]
  },
  {
   "cell_type": "code",
   "execution_count": 31,
   "id": "72d414cf",
   "metadata": {},
   "outputs": [
    {
     "name": "stdout",
     "output_type": "stream",
     "text": [
      "Number of Unique IDS: [ 49.  52.  51.  50.  53.  92.  47.  33.  46.  58.  45.  78.  48.  65.\n",
      "  41.  37.  60.  79.  63.  56.  32.  38.  40.  39.  54.  26.  29.  64.\n",
      "  30.  43.  31.  35.  57.  28.  89.  42.  77.  27.  67.  34.  25.  36.\n",
      " 100.  69.  99.  73.  68.  59.  66.  44.  61.  24.  76.  70.  55.  72.\n",
      "  71.  84.  95.  74.  75.  62.  86. 101.  91.  81.  85.  98.  80.  97.\n",
      "  90.  82.  94.  87.  83.  88.  96.  93.  23.  20.  22.  21.  14.  18.\n",
      "  19.  15.  16.  17.  13.]\n"
     ]
    }
   ],
   "source": [
    "print(f\"Number of Unique IDS: {data['INTAKE_MANIFOLD_PRESSURE'].unique()}\")"
   ]
  },
  {
   "cell_type": "code",
   "execution_count": 32,
   "id": "46d36197",
   "metadata": {},
   "outputs": [
    {
     "name": "stdout",
     "output_type": "stream",
     "text": [
      "Number of Unique IDS: [0.333 0.325 0.329 0.345 0.341 0.349 0.373 0.267 0.369 0.294 0.365 0.31\n",
      " 0.322 0.302 0.29  0.298 0.314 0.306 0.255 0.271 0.357 0.576 0.318 0.525\n",
      " 0.376 0.263 0.286 0.247 0.231 0.275 0.184 0.216 0.447 0.475 0.18  0.4\n",
      " 0.176 0.2   0.243 0.192 0.208 0.161 0.173 0.196 0.435 0.165 0.278 0.392\n",
      " 0.157 0.573 0.361 0.561 0.259 0.522 0.404 0.424 0.506 0.455 0.408 0.41\n",
      " 0.588 0.169 0.565 0.22  0.235 0.663 0.416 0.388 0.337 0.42  0.451 0.204\n",
      " 0.251 0.227 0.541 0.537 0.188 0.608 0.71  0.533 0.49  0.153 0.212 0.545\n",
      " 0.459 0.282 0.686 0.51  0.498 0.62  0.463 0.224 0.549 0.38  0.239 0.353\n",
      " 0.553 0.592 0.494 0.478 0.58  0.482 0.471 0.443 0.678 0.682 0.384 0.467\n",
      " 0.671 0.431 0.412 0.396 0.584 0.427 0.149 0.643 0.714 0.624 0.486 0.667\n",
      " 0.557 0.518 0.675 0.514 0.659 0.722 0.616 0.651 0.439 0.529 0.647 0.631\n",
      " 0.502 0.702 0.596 0.718 0.6   0.604 0.816 0.635 0.655 0.698 0.612 0.725\n",
      " 0.706 0.639 0.145 0.569 0.69  0.776 0.627 0.925 0.11  0.961 0.765 0.82\n",
      " 0.106 0.141 0.133 0.137 0.839 0.949 0.945 0.996 0.902 0.733 0.984 0.988\n",
      " 0.937 1.    0.953 0.8   0.98  0.063 0.992 0.918 0.749 0.114 0.835 0.78\n",
      " 0.078 0.89  0.933 0.086 0.753 0.125 0.102 0.122 0.941 0.118 0.784 0.741\n",
      " 0.965 0.957 0.812 0.737 0.875 0.082 0.969 0.871 0.827 0.804 0.886 0.059\n",
      " 0.976 0.824 0.843 0.914 0.09  0.788 0.973 0.769 0.729 0.847 0.831 0.878\n",
      " 0.075 0.694 0.761 0.855 0.773 0.867 0.929 0.757 0.071 0.745 0.906 0.051\n",
      " 0.863 0.851 0.094 0.098 0.894 0.859 0.796 0.91  0.129 0.808 0.922 0.055\n",
      " 0.898 0.792 0.882 0.067]\n"
     ]
    }
   ],
   "source": [
    "print(f\"Number of Unique IDS: {data['ENGINE_LOAD'].unique()}\")"
   ]
  },
  {
   "cell_type": "code",
   "execution_count": 33,
   "id": "be6fc884",
   "metadata": {},
   "outputs": [],
   "source": [
    "# Calculate changes in 'INTAKE_MANIFOLD_PRESSURE' and 'ENGINE_LOAD'\n",
    "data['PRESSURE_CHANGE'] = data['INTAKE_MANIFOLD_PRESSURE'].diff()\n",
    "data['LOAD_CHANGE'] = data['ENGINE_LOAD'].diff()"
   ]
  },
  {
   "cell_type": "code",
   "execution_count": 34,
   "id": "14726b20",
   "metadata": {},
   "outputs": [],
   "source": [
    "# Define the breaking behavior function with thresholds\n",
    "def get_breaking_behavior(row):\n",
    "    # thresholds based on your analysis\n",
    "    if row['PRESSURE_CHANGE'] < -5 and row['LOAD_CHANGE'] < -0.1:  # Sharp drop in both values\n",
    "        return 'Breaking'\n",
    "    else:\n",
    "        return 'Not Breaking'"
   ]
  },
  {
   "cell_type": "code",
   "execution_count": 35,
   "id": "45ce3e34",
   "metadata": {},
   "outputs": [],
   "source": [
    "# Apply the function to create the 'BREAKING BEHAVIOUR' column\n",
    "data['BREAKING_BEHAVIOUR'] = data.apply(get_breaking_behavior, axis=1)"
   ]
  },
  {
   "cell_type": "code",
   "execution_count": 36,
   "id": "f61864f4",
   "metadata": {},
   "outputs": [],
   "source": [
    "#  Define driver behavior classification based on thresholds\n",
    "def classify_driver_behavior(row):\n",
    "    if row['ENGINE_LOAD'] > 0.7 or row['INTAKE_MANIFOLD_PRESSURE'] > 70:\n",
    "        return 'Aggressive'\n",
    "    elif row['ENGINE_LOAD'] < 0.3 and row['INTAKE_MANIFOLD_PRESSURE'] < 40:\n",
    "        return 'Conservative'\n",
    "    else:\n",
    "        return 'Normal'"
   ]
  },
  {
   "cell_type": "code",
   "execution_count": 37,
   "id": "ca57d33f",
   "metadata": {},
   "outputs": [],
   "source": [
    "# Apply driver behavior classification\n",
    "data['DRIVER_BEHAVIOR'] = data.apply(classify_driver_behavior, axis=1)"
   ]
  },
  {
   "cell_type": "code",
   "execution_count": 38,
   "id": "68585dee",
   "metadata": {},
   "outputs": [],
   "source": [
    "# Encode 'BREAKING BEHAVIOUR' column\n",
    "data['BREAKING_BEHAVIOUR'] = data['BREAKING_BEHAVIOUR'].map({'Breaking': 1, 'Not Breaking': 0})"
   ]
  },
  {
   "cell_type": "code",
   "execution_count": 39,
   "id": "0f319cce",
   "metadata": {},
   "outputs": [],
   "source": [
    "data = data.apply(lambda col: col.fillna(col.mode()[0]))"
   ]
  },
  {
   "cell_type": "markdown",
   "id": "3dfebd82",
   "metadata": {},
   "source": [
    "#### CHECKING FOR MISSING VALUES"
   ]
  },
  {
   "cell_type": "code",
   "execution_count": 40,
   "id": "3df079cf",
   "metadata": {},
   "outputs": [
    {
     "name": "stdout",
     "output_type": "stream",
     "text": [
      "                             Missing Values  Proportion\n",
      "MODEL                                     0         0.0\n",
      "ENGINE_POWER                              0         0.0\n",
      "AUTOMATIC                                 0         0.0\n",
      "FUEL_LEVEL                                0         0.0\n",
      "ENGINE_LOAD                               0         0.0\n",
      "ENGINE_RPM                                0         0.0\n",
      "INTAKE_MANIFOLD_PRESSURE                  0         0.0\n",
      "MAF                                       0         0.0\n",
      "SHORT TERM FUEL TRIM BANK 2               0         0.0\n",
      "SHORT TERM FUEL TRIM BANK 1               0         0.0\n",
      "ENGINE_RUNTIME                            0         0.0\n",
      "THROTTLE_POS                              0         0.0\n",
      "TIMING_ADVANCE                            0         0.0\n",
      "MIN                                       0         0.0\n",
      "HOURS                                     0         0.0\n",
      "DAYS_OF_WEEK                              0         0.0\n",
      "MONTHS                                    0         0.0\n",
      "maintenance_required                      0         0.0\n",
      "PRESSURE_CHANGE                           0         0.0\n",
      "LOAD_CHANGE                               0         0.0\n",
      "BREAKING_BEHAVIOUR                        0         0.0\n",
      "DRIVER_BEHAVIOR                           0         0.0\n"
     ]
    }
   ],
   "source": [
    "# Counting missing values in each column\n",
    "missing_values_count = data.isnull().sum()\n",
    "\n",
    "# Calculating the proportion of missing values for each column\n",
    "missing_values_proportion= data.isnull().sum() / len(data)\n",
    "\n",
    "# Combining count and proportion into one DataFrame for a clean summary\n",
    "missing_values_summary = pd.DataFrame({\n",
    "    'Missing Values': missing_values_count,\n",
    "    'Proportion': missing_values_proportion\n",
    "})\n",
    "# Displaying the summary table\n",
    "print(missing_values_summary)"
   ]
  },
  {
   "cell_type": "code",
   "execution_count": 41,
   "id": "9ab9e0f5",
   "metadata": {},
   "outputs": [
    {
     "name": "stdout",
     "output_type": "stream",
     "text": [
      "Number of Unique IDS: ['Normal' 'Aggressive' 'Conservative']\n"
     ]
    }
   ],
   "source": [
    "print(f\"Number of Unique IDS: {data['DRIVER_BEHAVIOR'].unique()}\")"
   ]
  },
  {
   "cell_type": "code",
   "execution_count": 42,
   "id": "ae99ee24",
   "metadata": {},
   "outputs": [],
   "source": [
    "data[\"DRIVER_BEHAVIOR\"] = encoder.fit_transform(data[\"DRIVER_BEHAVIOR\"])"
   ]
  },
  {
   "cell_type": "markdown",
   "id": "b9389cff",
   "metadata": {},
   "source": [
    "#### VISUALIZING THE LABEL COUNTS TO CHECK FOR DATA IMBALANCE"
   ]
  },
  {
   "cell_type": "code",
   "execution_count": 43,
   "id": "c4d659ab",
   "metadata": {},
   "outputs": [],
   "source": [
    "# initialize the value counts of the labels\n",
    "label_counts = data[\"maintenance_required\"].value_counts()"
   ]
  },
  {
   "cell_type": "code",
   "execution_count": 44,
   "id": "40f80032",
   "metadata": {},
   "outputs": [
    {
     "data": {
      "image/png": "[encoded data removed]",
      "text/plain": [
       "<Figure size 600x600 with 1 Axes>"
      ]
     },
     "metadata": {},
     "output_type": "display_data"
    }
   ],
   "source": [
    "# Create a custom function to display count and percentage\n",
    "def autopct_format(pct, all_vals):\n",
    "    absolute = int(round(pct / 100. * sum(all_vals)))\n",
    "    return f\"{absolute}\\n({pct:.1f}%)\"\n",
    "\n",
    "# Define custom colors\n",
    "colors = [\"#ff9999\", \"#66b3ff\", \"#99ff99\", \"#ffcc99\"]\n",
    "\n",
    "# Create plot\n",
    "plt.figure(figsize=(6, 6))\n",
    "plt.pie(\n",
    "    label_counts, \n",
    "    labels=label_counts.index, \n",
    "    autopct=lambda pct: autopct_format(pct, label_counts), \n",
    "    startangle=140,\n",
    "    colors=colors\n",
    ")\n",
    "plt.title(\"Label Distribution\")\n",
    "plt.axis(\"equal\")\n",
    "plt.show()"
   ]
  },
  {
   "cell_type": "markdown",
   "id": "4dbf8874",
   "metadata": {},
   "source": [
    "# MACHINE LEARNING"
   ]
  },
  {
   "cell_type": "markdown",
   "id": "88bc4446",
   "metadata": {},
   "source": [
    "#### PREDICTIVE MAINTENANCE"
   ]
  },
  {
   "cell_type": "markdown",
   "id": "7eab0d41",
   "metadata": {},
   "source": [
    "To predict when maintenance is required we define Maintenance Required based on diagnostic codes that represent failure events or other indicators."
   ]
  },
  {
   "cell_type": "code",
   "execution_count": 45,
   "id": "f6d5f41e",
   "metadata": {},
   "outputs": [],
   "source": [
    "# splits the data into dependent and independent variables\n",
    "X = data.drop(\"maintenance_required\", axis = 1) #independent columns\n",
    "y = data[\"maintenance_required\"] #target"
   ]
  },
  {
   "cell_type": "code",
   "execution_count": 46,
   "id": "a9627763",
   "metadata": {},
   "outputs": [],
   "source": [
    "num_classes = len(np.unique(y))"
   ]
  },
  {
   "cell_type": "code",
   "execution_count": 47,
   "id": "992c2a1e",
   "metadata": {},
   "outputs": [
    {
     "data": {
      "text/plain": [
       "2"
      ]
     },
     "execution_count": 47,
     "metadata": {},
     "output_type": "execute_result"
    }
   ],
   "source": [
    "num_classes"
   ]
  },
  {
   "cell_type": "markdown",
   "id": "b6b04e6e",
   "metadata": {},
   "source": [
    "# FEATURE SELECTION "
   ]
  },
  {
   "cell_type": "code",
   "execution_count": 48,
   "id": "57e94901",
   "metadata": {},
   "outputs": [],
   "source": [
    "from sklearn.feature_selection import SelectKBest, chi2\n",
    "import matplotlib.pyplot as plt"
   ]
  },
  {
   "cell_type": "code",
   "execution_count": 49,
   "id": "5e807e5b",
   "metadata": {},
   "outputs": [],
   "source": [
    "# Scale features to be non-negative\n",
    "scaler = MinMaxScaler()\n",
    "X_scaled = scaler.fit_transform(X)"
   ]
  },
  {
   "cell_type": "code",
   "execution_count": 50,
   "id": "0c4e24cb",
   "metadata": {},
   "outputs": [],
   "source": [
    "# Apply SelectKBest with the chi2 scoring function\n",
    "k = 10  # Number of top features to select\n",
    "selector = SelectKBest(score_func=chi2, k=k)\n",
    "X_selected = selector.fit_transform(X_scaled, y)"
   ]
  },
  {
   "cell_type": "code",
   "execution_count": 51,
   "id": "6bf51eb9",
   "metadata": {},
   "outputs": [],
   "source": [
    "# Get the scores and corresponding feature names\n",
    "scores = selector.scores_\n",
    "feature_names = X.columns"
   ]
  },
  {
   "cell_type": "code",
   "execution_count": 52,
   "id": "34817bd2",
   "metadata": {},
   "outputs": [],
   "source": [
    "# Sort the features by their scores in descending order\n",
    "feature_scores = sorted(zip(feature_names, scores), key=lambda x: x[1], reverse=True)\n",
    "top_features, top_scores = zip(*feature_scores[:k])"
   ]
  },
  {
   "cell_type": "code",
   "execution_count": 53,
   "id": "c7c7d9d1",
   "metadata": {},
   "outputs": [
    {
     "data": {
      "image/png": "[encoded data removed]",
      "text/plain": [
       "<Figure size 1000x600 with 1 Axes>"
      ]
     },
     "metadata": {},
     "output_type": "display_data"
    }
   ],
   "source": [
    "# Visualize the top K features\n",
    "plt.figure(figsize=(10, 6))\n",
    "plt.barh(top_features, top_scores, color='skyblue')\n",
    "plt.xlabel('Chi-squared Score')\n",
    "plt.title(f'Top {k} Features by Chi-squared Score')\n",
    "plt.gca().invert_yaxis()  # Invert y-axis to show highest scores on top\n",
    "plt.show()"
   ]
  },
  {
   "cell_type": "markdown",
   "id": "3e0c6716",
   "metadata": {},
   "source": [
    "### USING THE SELECTED FEATURES FOR CONTINUED MODELLING"
   ]
  },
  {
   "cell_type": "code",
   "execution_count": 54,
   "id": "1b06ab6a",
   "metadata": {},
   "outputs": [],
   "source": [
    "# Get indices of the selected features\n",
    "selected_indices = selector.get_support(indices=True)\n",
    "\n",
    "# Create a new array with only the selected features\n",
    "X_selected_array = X_scaled[:, selected_indices]\n",
    "\n",
    "# Convert back to DataFrame with selected feature names\n",
    "X_selected_df = pd.DataFrame(X_selected_array, columns=top_features)"
   ]
  },
  {
   "cell_type": "code",
   "execution_count": 55,
   "id": "3cee5917",
   "metadata": {},
   "outputs": [
    {
     "data": {
      "text/html": [
       "<div>\n",
       "<style scoped>\n",
       "    .dataframe tbody tr th:only-of-type {\n",
       "        vertical-align: middle;\n",
       "    }\n",
       "\n",
       "    .dataframe tbody tr th {\n",
       "        vertical-align: top;\n",
       "    }\n",
       "\n",
       "    .dataframe thead th {\n",
       "        text-align: right;\n",
       "    }\n",
       "</style>\n",
       "<table border=\"1\" class=\"dataframe\">\n",
       "  <thead>\n",
       "    <tr style=\"text-align: right;\">\n",
       "      <th></th>\n",
       "      <th>BREAKING_BEHAVIOUR</th>\n",
       "      <th>HOURS</th>\n",
       "      <th>SHORT TERM FUEL TRIM BANK 1</th>\n",
       "      <th>AUTOMATIC</th>\n",
       "      <th>MODEL</th>\n",
       "      <th>ENGINE_RPM</th>\n",
       "      <th>INTAKE_MANIFOLD_PRESSURE</th>\n",
       "      <th>ENGINE_POWER</th>\n",
       "      <th>THROTTLE_POS</th>\n",
       "      <th>DAYS_OF_WEEK</th>\n",
       "    </tr>\n",
       "  </thead>\n",
       "  <tbody>\n",
       "    <tr>\n",
       "      <th>0</th>\n",
       "      <td>0.076923</td>\n",
       "      <td>0.5</td>\n",
       "      <td>0.0</td>\n",
       "      <td>0.169035</td>\n",
       "      <td>0.409091</td>\n",
       "      <td>1.0</td>\n",
       "      <td>0.27907</td>\n",
       "      <td>0.695652</td>\n",
       "      <td>0.333333</td>\n",
       "      <td>0.0</td>\n",
       "    </tr>\n",
       "    <tr>\n",
       "      <th>1</th>\n",
       "      <td>0.076923</td>\n",
       "      <td>0.5</td>\n",
       "      <td>0.0</td>\n",
       "      <td>0.167259</td>\n",
       "      <td>0.443182</td>\n",
       "      <td>1.0</td>\n",
       "      <td>0.27907</td>\n",
       "      <td>0.695652</td>\n",
       "      <td>0.333333</td>\n",
       "      <td>0.0</td>\n",
       "    </tr>\n",
       "    <tr>\n",
       "      <th>2</th>\n",
       "      <td>0.076923</td>\n",
       "      <td>0.5</td>\n",
       "      <td>0.0</td>\n",
       "      <td>0.164890</td>\n",
       "      <td>0.431818</td>\n",
       "      <td>1.0</td>\n",
       "      <td>0.27907</td>\n",
       "      <td>0.695652</td>\n",
       "      <td>0.333333</td>\n",
       "      <td>0.0</td>\n",
       "    </tr>\n",
       "    <tr>\n",
       "      <th>3</th>\n",
       "      <td>0.076923</td>\n",
       "      <td>0.5</td>\n",
       "      <td>0.0</td>\n",
       "      <td>0.167555</td>\n",
       "      <td>0.431818</td>\n",
       "      <td>1.0</td>\n",
       "      <td>0.27907</td>\n",
       "      <td>0.695652</td>\n",
       "      <td>0.333333</td>\n",
       "      <td>0.0</td>\n",
       "    </tr>\n",
       "    <tr>\n",
       "      <th>4</th>\n",
       "      <td>0.076923</td>\n",
       "      <td>0.5</td>\n",
       "      <td>0.0</td>\n",
       "      <td>0.167851</td>\n",
       "      <td>0.409091</td>\n",
       "      <td>1.0</td>\n",
       "      <td>0.27907</td>\n",
       "      <td>0.695652</td>\n",
       "      <td>0.333333</td>\n",
       "      <td>0.0</td>\n",
       "    </tr>\n",
       "  </tbody>\n",
       "</table>\n",
       "</div>"
      ],
      "text/plain": [
       "   BREAKING_BEHAVIOUR  HOURS  SHORT TERM FUEL TRIM BANK 1  AUTOMATIC  \\\n",
       "0            0.076923    0.5                          0.0   0.169035   \n",
       "1            0.076923    0.5                          0.0   0.167259   \n",
       "2            0.076923    0.5                          0.0   0.164890   \n",
       "3            0.076923    0.5                          0.0   0.167555   \n",
       "4            0.076923    0.5                          0.0   0.167851   \n",
       "\n",
       "      MODEL  ENGINE_RPM  INTAKE_MANIFOLD_PRESSURE  ENGINE_POWER  THROTTLE_POS  \\\n",
       "0  0.409091         1.0                   0.27907      0.695652      0.333333   \n",
       "1  0.443182         1.0                   0.27907      0.695652      0.333333   \n",
       "2  0.431818         1.0                   0.27907      0.695652      0.333333   \n",
       "3  0.431818         1.0                   0.27907      0.695652      0.333333   \n",
       "4  0.409091         1.0                   0.27907      0.695652      0.333333   \n",
       "\n",
       "   DAYS_OF_WEEK  \n",
       "0           0.0  \n",
       "1           0.0  \n",
       "2           0.0  \n",
       "3           0.0  \n",
       "4           0.0  "
      ]
     },
     "execution_count": 55,
     "metadata": {},
     "output_type": "execute_result"
    }
   ],
   "source": [
    "# looking at the selected features\n",
    "X_selected_df.head()"
   ]
  },
  {
   "cell_type": "code",
   "execution_count": 56,
   "id": "6bcc0ad3",
   "metadata": {},
   "outputs": [],
   "source": [
    "X = X_selected_df"
   ]
  },
  {
   "cell_type": "markdown",
   "id": "e23e6348",
   "metadata": {},
   "source": [
    "# DATA SPLITTING"
   ]
  },
  {
   "cell_type": "markdown",
   "id": "fdc5c15a",
   "metadata": {},
   "source": [
    "In machine learning, data can be inputed in several magnitudes and sometimes it may hinder the model from learning some important data points or features correctly, with such a problem, the need to normalize or standardize our data becomes of utmost importance. Normalization is a technique used to transform the features of a dataset into a common scale, that is to represent the datapoints magnitude within a common range so that the machine learning is not influenced by the disproportional datapoints helping the data to converge faster and perform better."
   ]
  },
  {
   "cell_type": "code",
   "execution_count": 57,
   "id": "55b6bcf7",
   "metadata": {},
   "outputs": [],
   "source": [
    "# splits the data into train sets\n",
    "X_train, X_temp, y_train, y_temp = train_test_split(X, y, test_size=0.4, random_state=46)\n",
    "\n",
    "# splits the data into test and validation sets\n",
    "X_val, X_test, y_val, y_test = train_test_split(X_temp, y_temp, test_size=0.5, random_state=46)\n",
    "\n",
    "# scaling the faetures\n",
    "scaler = StandardScaler()\n",
    "\n",
    "# fit the scaler to the train data\n",
    "X_train = scaler.fit_transform(X_train)\n",
    "\n",
    "# fit the scaler to the test data\n",
    "X_test = scaler.transform(X_test)\n",
    "\n",
    "# fit the scaler to the validation data\n",
    "X_val = scaler.transform(X_val)"
   ]
  },
  {
   "cell_type": "markdown",
   "id": "1835b4cb",
   "metadata": {},
   "source": [
    "### APPLYING THE OVER SAMPLING TECHNIQUE USING SMOTE"
   ]
  },
  {
   "cell_type": "code",
   "execution_count": 58,
   "id": "7ff220f8",
   "metadata": {},
   "outputs": [],
   "source": [
    "# initialize smote sampler\n",
    "ros = SMOTE()"
   ]
  },
  {
   "cell_type": "code",
   "execution_count": 59,
   "id": "f39c397d",
   "metadata": {},
   "outputs": [],
   "source": [
    "# fit the resample on the training data\n",
    "X_train_resampled, y_train_resampled = ros.fit_resample(X_train, y_train)"
   ]
  },
  {
   "cell_type": "code",
   "execution_count": 60,
   "id": "b871d01f",
   "metadata": {},
   "outputs": [],
   "source": [
    "# fit the resample on the validation data\n",
    "X_val_resampled, y_val_resampled = ros.fit_resample(X_val, y_val)"
   ]
  },
  {
   "cell_type": "markdown",
   "id": "545645f2",
   "metadata": {},
   "source": [
    "## VISUALIZING THE BALANCED DATA DISTRIBUTION"
   ]
  },
  {
   "cell_type": "code",
   "execution_count": 61,
   "id": "e3c0eb7b",
   "metadata": {},
   "outputs": [],
   "source": [
    "# initialize the value counts of the labels\n",
    "label_counts = y_train_resampled.value_counts()"
   ]
  },
  {
   "cell_type": "code",
   "execution_count": 62,
   "id": "c4f763a5",
   "metadata": {},
   "outputs": [
    {
     "data": {
      "image/png": "[encoded data removed]",
      "text/plain": [
       "<Figure size 600x600 with 1 Axes>"
      ]
     },
     "metadata": {},
     "output_type": "display_data"
    }
   ],
   "source": [
    "# Create a custom function to display count and percentage\n",
    "def autopct_format(pct, all_vals):\n",
    "    absolute = int(round(pct / 100. * sum(all_vals)))\n",
    "    return f\"{absolute}\\n({pct:.1f}%)\"\n",
    "\n",
    "# Define custom colors\n",
    "colors = [\"#ff9999\", \"#66b3ff\", \"#99ff99\", \"#ffcc99\"]\n",
    "\n",
    "# Create plot\n",
    "plt.figure(figsize=(6, 6))\n",
    "plt.pie(\n",
    "    label_counts, \n",
    "    labels=label_counts.index, \n",
    "    autopct=lambda pct: autopct_format(pct, label_counts), \n",
    "    startangle=140,\n",
    "    colors=colors\n",
    ")\n",
    "plt.title(\"Label Distribution\")\n",
    "plt.axis(\"equal\")\n",
    "plt.show()"
   ]
  },
  {
   "cell_type": "markdown",
   "id": "b8c96f85",
   "metadata": {},
   "source": [
    "## DECISION TREES CLASSIFIER"
   ]
  },
  {
   "cell_type": "code",
   "execution_count": 63,
   "id": "a0a17f3a",
   "metadata": {},
   "outputs": [],
   "source": [
    "# initialize the decision trees classifier\n",
    "dt = DecisionTreeClassifier()\n",
    "\n",
    "# start tracking the CPU usage and time\n",
    "cpu_percentage = []\n",
    "start_time = time.time()\n",
    "\n",
    "# creating a function to track the average cpu\n",
    "def cpu_tracker(interval=0.1):\n",
    "    while True:\n",
    "        cpu_percentage.append(psutil.cpu_percent(interval=interval))\n",
    "        \n",
    "# start CPU tracking in a separate thread\n",
    "tracker_thread = threading.Thread(target=cpu_tracker)\n",
    "tracker_thread.start()\n",
    "\n",
    "# fit and train the model\n",
    "dt.fit(X_train_resampled, y_train_resampled)\n",
    "\n",
    "# end the time tracker\n",
    "end_time = time.time()\n",
    "\n",
    "# stop CPU tracking\n",
    "tracker_thread.join(timeout=0)\n",
    "\n",
    "# calculate time taken and average CPU usage\n",
    "training_time = end_time - start_time\n",
    "average_CPU_usage = sum(cpu_percentage) / len(cpu_percentage) if cpu_percentage else 0"
   ]
  },
  {
   "cell_type": "code",
   "execution_count": 64,
   "id": "ae6f0325",
   "metadata": {},
   "outputs": [
    {
     "name": "stdout",
     "output_type": "stream",
     "text": [
      "Time taken to train the model: 0.13 seconds\n",
      "Average CPU usage during training: 27.60%\n"
     ]
    }
   ],
   "source": [
    "print(f\"Time taken to train the model: {training_time:.2f} seconds\")\n",
    "print(f\"Average CPU usage during training: {average_CPU_usage:.2f}%\")"
   ]
  },
  {
   "cell_type": "code",
   "execution_count": 65,
   "id": "9accde9e",
   "metadata": {},
   "outputs": [
    {
     "name": "stdout",
     "output_type": "stream",
     "text": [
      "Accuracy: 99.43%\n"
     ]
    }
   ],
   "source": [
    "# evaluate the model predictions\n",
    "y_pred = dt.predict(X_test)\n",
    "\n",
    "# evaluate the model accuracy\n",
    "accuracy = accuracy_score(y_test, y_pred)\n",
    "\n",
    "print(f\"Accuracy: {accuracy * 100:.2f}%\")"
   ]
  },
  {
   "cell_type": "code",
   "execution_count": 66,
   "id": "70846498",
   "metadata": {},
   "outputs": [
    {
     "name": "stdout",
     "output_type": "stream",
     "text": [
      "Classification Report:\n",
      "               precision    recall  f1-score   support\n",
      "\n",
      "           0       1.00      1.00      1.00      9653\n",
      "           1       0.98      0.99      0.99      2435\n",
      "\n",
      "    accuracy                           0.99     12088\n",
      "   macro avg       0.99      0.99      0.99     12088\n",
      "weighted avg       0.99      0.99      0.99     12088\n",
      "\n"
     ]
    }
   ],
   "source": [
    "# print the classification report for logistic regression\n",
    "print(\"Classification Report:\\n\", classification_report(y_test, y_pred, zero_division=1))"
   ]
  },
  {
   "cell_type": "code",
   "execution_count": 67,
   "id": "5c86ccec",
   "metadata": {},
   "outputs": [],
   "source": [
    "# initialize the class labels\n",
    "class_labels = ['GOOD', 'BAD']"
   ]
  },
  {
   "cell_type": "markdown",
   "id": "bba34ddb",
   "metadata": {},
   "source": [
    "#### CONFUSION MATRIX"
   ]
  },
  {
   "cell_type": "code",
   "execution_count": 68,
   "id": "75343ba5",
   "metadata": {},
   "outputs": [
    {
     "data": {
      "image/png": "[encoded data removed]",
      "text/plain": [
       "<Figure size 800x600 with 2 Axes>"
      ]
     },
     "metadata": {},
     "output_type": "display_data"
    }
   ],
   "source": [
    "# computes the confusion matrix, which is a table that describes the performance of a classification model.\n",
    "c_matrix = confusion_matrix(y_test, y_pred)\n",
    "c_matrix_percentage = c_matrix.astype(\"float\") / c_matrix.sum(axis=1)[:, np.newaxis]\n",
    "# adjusts the figure size\n",
    "plt.figure(figsize=(8, 6))\n",
    "sns.heatmap(c_matrix_percentage, annot=True, cmap=\"coolwarm\", fmt=\".2%\", cbar=True, xticklabels=class_labels, yticklabels=class_labels)\n",
    "plt.title(\"CONFUSION MATRIX\")\n",
    "plt.ylabel(\"True label\")\n",
    "plt.xlabel(\"predicted label\")\n",
    "plt.show()"
   ]
  },
  {
   "cell_type": "markdown",
   "id": "13ffac0b",
   "metadata": {},
   "source": [
    "#### LOGISTIC REGRESSION"
   ]
  },
  {
   "cell_type": "code",
   "execution_count": 69,
   "id": "fbed9f2b",
   "metadata": {},
   "outputs": [],
   "source": [
    "# initialize the logistic regression model\n",
    "LR = LogisticRegression(max_iter=10000)\n",
    "\n",
    "# start tracking the CPU usage and time\n",
    "cpu_percentage = []\n",
    "start_time = time.time()\n",
    "\n",
    "# creating a function to track the average cpu\n",
    "def cpu_tracker(interval=0.1):\n",
    "    while True:\n",
    "        cpu_percentage.append(psutil.cpu_percent(interval=interval))\n",
    "        \n",
    "# start CPU tracking in a separate thread\n",
    "tracker_thread = threading.Thread(target=cpu_tracker)\n",
    "tracker_thread.start()\n",
    "\n",
    "# fit and train the model\n",
    "LR.fit(X_train_resampled, y_train_resampled)\n",
    "\n",
    "# end the time tracker\n",
    "end_time = time.time()\n",
    "\n",
    "# stop CPU tracking\n",
    "tracker_thread.join(timeout=0)\n",
    "\n",
    "# calculate time taken and average CPU usage\n",
    "training_time = end_time - start_time\n",
    "average_CPU_usage = sum(cpu_percentage) / len(cpu_percentage) if cpu_percentage else 0"
   ]
  },
  {
   "cell_type": "code",
   "execution_count": 70,
   "id": "b9a7ab0e",
   "metadata": {},
   "outputs": [
    {
     "name": "stdout",
     "output_type": "stream",
     "text": [
      "Time taken to train the model: 0.10 seconds\n",
      "Average CPU usage during training: 0.00%\n"
     ]
    }
   ],
   "source": [
    "print(f\"Time taken to train the model: {training_time:.2f} seconds\")\n",
    "print(f\"Average CPU usage during training: {average_CPU_usage:.2f}%\")"
   ]
  },
  {
   "cell_type": "code",
   "execution_count": 71,
   "id": "26c11855",
   "metadata": {},
   "outputs": [
    {
     "name": "stdout",
     "output_type": "stream",
     "text": [
      "Accuracy: 92.58%\n"
     ]
    }
   ],
   "source": [
    "# evaluate the model predictions\n",
    "y_pred = LR.predict(X_test)\n",
    "\n",
    "# evaluate the model accuracy\n",
    "accuracy = accuracy_score(y_test, y_pred)\n",
    "\n",
    "print(f\"Accuracy: {accuracy * 100:.2f}%\")"
   ]
  },
  {
   "cell_type": "code",
   "execution_count": 72,
   "id": "36bacc61",
   "metadata": {},
   "outputs": [
    {
     "name": "stdout",
     "output_type": "stream",
     "text": [
      "Classification Report:\n",
      "               precision    recall  f1-score   support\n",
      "\n",
      "           0       0.98      0.93      0.95      9653\n",
      "           1       0.76      0.92      0.83      2435\n",
      "\n",
      "    accuracy                           0.93     12088\n",
      "   macro avg       0.87      0.92      0.89     12088\n",
      "weighted avg       0.94      0.93      0.93     12088\n",
      "\n"
     ]
    }
   ],
   "source": [
    "# print the classification report for logistic regression\n",
    "print(\"Classification Report:\\n\", classification_report(y_test, y_pred, zero_division=1))"
   ]
  },
  {
   "cell_type": "markdown",
   "id": "b37988f5",
   "metadata": {},
   "source": [
    "#### CONFUSION MATRIX"
   ]
  },
  {
   "cell_type": "code",
   "execution_count": 73,
   "id": "6940359c",
   "metadata": {},
   "outputs": [
    {
     "data": {
      "image/png": "[encoded data removed]",
      "text/plain": [
       "<Figure size 800x600 with 2 Axes>"
      ]
     },
     "metadata": {},
     "output_type": "display_data"
    }
   ],
   "source": [
    "# computes the confusion matrix, which is a table that describes the performance of a classification model.\n",
    "c_matrix = confusion_matrix(y_test, y_pred)\n",
    "c_matrix_percentage = c_matrix.astype(\"float\") / c_matrix.sum(axis=1)[:, np.newaxis]\n",
    "# adjusts the figure size\n",
    "plt.figure(figsize=(8, 6))\n",
    "sns.heatmap(c_matrix_percentage, annot=True, cmap=\"coolwarm\", fmt=\".2%\", cbar=True, xticklabels=class_labels, yticklabels=class_labels)\n",
    "plt.title(\"CONFUSION MATRIX\")\n",
    "plt.ylabel(\"True label\")\n",
    "plt.xlabel(\"predicted label\")\n",
    "plt.show()"
   ]
  },
  {
   "cell_type": "markdown",
   "id": "823e0b9f",
   "metadata": {},
   "source": [
    "#### RANDOM FOREST CLASSIFIER"
   ]
  },
  {
   "cell_type": "code",
   "execution_count": 74,
   "id": "89f9b820",
   "metadata": {},
   "outputs": [],
   "source": [
    "rf_model = RandomForestClassifier(criterion='entropy', \n",
    "                                  max_depth=15, \n",
    "                                  max_features=0.75, \n",
    "                                  min_samples_leaf=7, \n",
    "                                  min_samples_split=3, \n",
    "                                  n_estimators = 130)\n",
    "\n",
    "# start tracking the CPU usage and time\n",
    "cpu_percentage = []\n",
    "start_time = time.time()\n",
    "\n",
    "# creating a function to track the average cpu\n",
    "def cpu_tracker(interval=0.1):\n",
    "    while True:\n",
    "        cpu_percentage.append(psutil.cpu_percent(interval=interval))\n",
    "        \n",
    "# start CPU tracking in a separate thread\n",
    "tracker_thread = threading.Thread(target=cpu_tracker)\n",
    "tracker_thread.start()\n",
    "\n",
    "rf_model.fit(X_train_resampled, y_train_resampled)\n",
    "\n",
    "# end the time tracker\n",
    "end_time = time.time()\n",
    "\n",
    "# stop CPU tracking\n",
    "tracker_thread.join(timeout=0)\n",
    "\n",
    "# calculate time taken and average CPU usage\n",
    "training_time = end_time - start_time\n",
    "average_CPU_usage = sum(cpu_percentage) / len(cpu_percentage) if cpu_percentage else 0"
   ]
  },
  {
   "cell_type": "code",
   "execution_count": 75,
   "id": "4f781df6",
   "metadata": {},
   "outputs": [
    {
     "name": "stdout",
     "output_type": "stream",
     "text": [
      "Time taken to train the model: 11.35 seconds\n",
      "Average CPU usage during training: 39.35%\n"
     ]
    }
   ],
   "source": [
    "print(f\"Time taken to train the model: {training_time:.2f} seconds\")\n",
    "print(f\"Average CPU usage during training: {average_CPU_usage:.2f}%\")"
   ]
  },
  {
   "cell_type": "code",
   "execution_count": 76,
   "id": "f9240a4f",
   "metadata": {},
   "outputs": [
    {
     "name": "stdout",
     "output_type": "stream",
     "text": [
      "Accuracy: 99.61%\n"
     ]
    }
   ],
   "source": [
    "# evaluate the model predictions\n",
    "y_pred = rf_model.predict(X_test)\n",
    "\n",
    "# evaluate the model accuracy\n",
    "accuracy = accuracy_score(y_test, y_pred)\n",
    "\n",
    "print(f\"Accuracy: {accuracy * 100:.2f}%\")"
   ]
  },
  {
   "cell_type": "code",
   "execution_count": 77,
   "id": "0ebaf8fc",
   "metadata": {},
   "outputs": [
    {
     "name": "stdout",
     "output_type": "stream",
     "text": [
      "Classification Report:\n",
      "               precision    recall  f1-score   support\n",
      "\n",
      "           0       1.00      1.00      1.00      9653\n",
      "           1       0.99      0.99      0.99      2435\n",
      "\n",
      "    accuracy                           1.00     12088\n",
      "   macro avg       1.00      0.99      0.99     12088\n",
      "weighted avg       1.00      1.00      1.00     12088\n",
      "\n"
     ]
    }
   ],
   "source": [
    "# print the classification report\n",
    "print(\"Classification Report:\\n\", classification_report(y_test, y_pred, zero_division=1))"
   ]
  },
  {
   "cell_type": "markdown",
   "id": "bd0eee55",
   "metadata": {},
   "source": [
    "#### CONFUSION MATRIX"
   ]
  },
  {
   "cell_type": "code",
   "execution_count": 78,
   "id": "fe9d8943",
   "metadata": {},
   "outputs": [
    {
     "data": {
      "image/png": "[encoded data removed]",
      "text/plain": [
       "<Figure size 800x600 with 2 Axes>"
      ]
     },
     "metadata": {},
     "output_type": "display_data"
    }
   ],
   "source": [
    "# computes the confusion matrix, which is a table that describes the performance of a classification model.\n",
    "c_matrix = confusion_matrix(y_test, y_pred)\n",
    "c_matrix_percentage = c_matrix.astype(\"float\") / c_matrix.sum(axis=1)[:, np.newaxis]\n",
    "# adjusts the figure size\n",
    "plt.figure(figsize=(8, 6))\n",
    "sns.heatmap(c_matrix_percentage, annot=True, cmap=\"coolwarm\", fmt=\".2%\", cbar=True, xticklabels=class_labels, yticklabels=class_labels)\n",
    "plt.title(\"CONFUSION MATRIX\")\n",
    "plt.ylabel(\"True label\")\n",
    "plt.xlabel(\"predicted label\")\n",
    "plt.show()"
   ]
  },
  {
   "cell_type": "markdown",
   "id": "418cd203",
   "metadata": {},
   "source": [
    "# ARTIFICIAL NEURAL NETWORK"
   ]
  },
  {
   "cell_type": "code",
   "execution_count": 79,
   "id": "4e368000",
   "metadata": {},
   "outputs": [],
   "source": [
    "import tensorflow as tf # importing the neural network framework with alias tf\n",
    "from tensorflow.keras.models import Sequential # activating the linear layers of the neural network\n",
    "from tensorflow.keras.layers import Dense # activating the dense and fully connected layer of the neural network\n",
    "from tensorflow.keras import layers"
   ]
  },
  {
   "cell_type": "code",
   "execution_count": 80,
   "id": "bda28da7",
   "metadata": {},
   "outputs": [],
   "source": [
    "# define the neural netwrok model\n",
    "model = Sequential([\n",
    "    Dense(64, input_shape=(X_train.shape[1],), activation = 'relu'),\n",
    "    Dense(32, activation='relu'),\n",
    "    Dense(num_classes, activation='softmax') # multi-class classification\n",
    "])"
   ]
  },
  {
   "cell_type": "code",
   "execution_count": 81,
   "id": "68cb516a",
   "metadata": {},
   "outputs": [],
   "source": [
    "# model compilation\n",
    "model.compile(optimizer='adam',\n",
    "             loss='sparse_categorical_crossentropy',\n",
    "             metrics=['accuracy'])"
   ]
  },
  {
   "cell_type": "code",
   "execution_count": 82,
   "id": "e53ccb93",
   "metadata": {},
   "outputs": [
    {
     "name": "stdout",
     "output_type": "stream",
     "text": [
      "Epoch 1/5\n",
      "\u001b[1m1823/1823\u001b[0m \u001b[32m━━━━━━━━━━━━━━━━━━━━\u001b[0m\u001b[37m\u001b[0m \u001b[1m5s\u001b[0m 2ms/step - accuracy: 0.9529 - loss: 0.1265 - val_accuracy: 0.9929 - val_loss: 0.0174\n",
      "Epoch 2/5\n",
      "\u001b[1m1823/1823\u001b[0m \u001b[32m━━━━━━━━━━━━━━━━━━━━\u001b[0m\u001b[37m\u001b[0m \u001b[1m4s\u001b[0m 2ms/step - accuracy: 0.9931 - loss: 0.0174 - val_accuracy: 0.9923 - val_loss: 0.0214\n",
      "Epoch 3/5\n",
      "\u001b[1m1823/1823\u001b[0m \u001b[32m━━━━━━━━━━━━━━━━━━━━\u001b[0m\u001b[37m\u001b[0m \u001b[1m4s\u001b[0m 2ms/step - accuracy: 0.9932 - loss: 0.0160 - val_accuracy: 0.9919 - val_loss: 0.0178\n",
      "Epoch 4/5\n",
      "\u001b[1m1823/1823\u001b[0m \u001b[32m━━━━━━━━━━━━━━━━━━━━\u001b[0m\u001b[37m\u001b[0m \u001b[1m4s\u001b[0m 2ms/step - accuracy: 0.9940 - loss: 0.0142 - val_accuracy: 0.9921 - val_loss: 0.0164\n",
      "Epoch 5/5\n",
      "\u001b[1m1823/1823\u001b[0m \u001b[32m━━━━━━━━━━━━━━━━━━━━\u001b[0m\u001b[37m\u001b[0m \u001b[1m5s\u001b[0m 3ms/step - accuracy: 0.9941 - loss: 0.0131 - val_accuracy: 0.9923 - val_loss: 0.0163\n"
     ]
    }
   ],
   "source": [
    "# start tracking the CPU usage and time\n",
    "cpu_percentage = []\n",
    "start_time = time.time()\n",
    "\n",
    "# creating a function to track the average cpu\n",
    "def cpu_tracker(interval=0.1):\n",
    "    while True:\n",
    "        cpu_percentage.append(psutil.cpu_percent(interval=interval))\n",
    "        \n",
    "# start CPU tracking in a separate thread\n",
    "tracker_thread = threading.Thread(target=cpu_tracker)\n",
    "tracker_thread.start()\n",
    "\n",
    "# train the model\n",
    "history = model.fit(X_train_resampled, y_train_resampled, validation_data=(X_val_resampled, y_val_resampled), epochs=5, batch_size=32)\n",
    "\n",
    "# end the time tracker\n",
    "end_time = time.time()\n",
    "\n",
    "# stop CPU tracking\n",
    "tracker_thread.join(timeout=0)"
   ]
  },
  {
   "cell_type": "code",
   "execution_count": 83,
   "id": "f1150e71",
   "metadata": {},
   "outputs": [],
   "source": [
    "# calculate time taken and average CPU usage\n",
    "training_time = end_time - start_time\n",
    "average_CPU_usage = sum(cpu_percentage) / len(cpu_percentage) if cpu_percentage else 0"
   ]
  },
  {
   "cell_type": "code",
   "execution_count": 84,
   "id": "a949cea4",
   "metadata": {},
   "outputs": [
    {
     "name": "stdout",
     "output_type": "stream",
     "text": [
      "Time taken to train the model: 22.64 seconds\n",
      "Average CPU usage during training: 55.00%\n"
     ]
    }
   ],
   "source": [
    "print(f\"Time taken to train the model: {training_time:.2f} seconds\")\n",
    "print(f\"Average CPU usage during training: {average_CPU_usage:.2f}%\")"
   ]
  },
  {
   "cell_type": "markdown",
   "id": "bf0bbf0c",
   "metadata": {},
   "source": [
    "#### VISUALIZE TRAIN ACCURACY AND LOSS PROGRESS"
   ]
  },
  {
   "cell_type": "code",
   "execution_count": 85,
   "id": "5ff20a00",
   "metadata": {},
   "outputs": [
    {
     "data": {
      "image/png": "[encoded data removed]",
      "text/plain": [
       "<Figure size 1200x400 with 2 Axes>"
      ]
     },
     "metadata": {},
     "output_type": "display_data"
    }
   ],
   "source": [
    "# plot training and validation accuracy\n",
    "plt.figure(figsize=(12, 4))\n",
    "plt.subplot(1, 2, 1)\n",
    "plt.plot(history.history['accuracy'])\n",
    "plt.plot(history.history['val_accuracy'])\n",
    "plt.title('Model accuracy')\n",
    "plt.ylabel('Accuracy')\n",
    "plt.xlabel('Epoch')\n",
    "plt.legend(['Train', 'Validation'], loc='upper left')\n",
    "\n",
    "# plot training and validation loss values\n",
    "plt.subplot(1, 2, 2)\n",
    "plt.plot(history.history['loss'])\n",
    "plt.plot(history.history['val_loss'])\n",
    "plt.title('Model loss')\n",
    "plt.ylabel('Loss')\n",
    "plt.xlabel('Epoch')\n",
    "plt.legend(['Train', 'Validation'], loc='upper left')\n",
    "\n",
    "plt.show()"
   ]
  },
  {
   "cell_type": "markdown",
   "id": "19662d42",
   "metadata": {},
   "source": [
    "#### EVALUATE THE ANN TEST ACCURACY"
   ]
  },
  {
   "cell_type": "code",
   "execution_count": 86,
   "id": "9e5453cf",
   "metadata": {},
   "outputs": [
    {
     "name": "stdout",
     "output_type": "stream",
     "text": [
      "\u001b[1m378/378\u001b[0m \u001b[32m━━━━━━━━━━━━━━━━━━━━\u001b[0m\u001b[37m\u001b[0m \u001b[1m0s\u001b[0m 1ms/step - accuracy: 0.9941 - loss: 0.0143\n"
     ]
    }
   ],
   "source": [
    "# Test set evaluation\n",
    "test_loss, test_accuracy = model.evaluate(X_test, y_test)"
   ]
  },
  {
   "cell_type": "code",
   "execution_count": 87,
   "id": "c8d44da9",
   "metadata": {},
   "outputs": [
    {
     "name": "stdout",
     "output_type": "stream",
     "text": [
      "ANN model accuracy: 99.40%\n"
     ]
    }
   ],
   "source": [
    "print(f\"ANN model accuracy: {test_accuracy * 100:.2f}%\")"
   ]
  },
  {
   "cell_type": "code",
   "execution_count": 88,
   "id": "1ee47d6d",
   "metadata": {},
   "outputs": [
    {
     "name": "stdout",
     "output_type": "stream",
     "text": [
      "\u001b[1m378/378\u001b[0m \u001b[32m━━━━━━━━━━━━━━━━━━━━\u001b[0m\u001b[37m\u001b[0m \u001b[1m1s\u001b[0m 2ms/step\n"
     ]
    }
   ],
   "source": [
    "y_pred = model.predict(X_test)\n",
    "y_pred_classes = np.argmax(y_pred, axis=1)  # Get the index of the highest probability for each sample"
   ]
  },
  {
   "cell_type": "markdown",
   "id": "d30d16bd",
   "metadata": {},
   "source": [
    "#### CLASSIFICATION REPORT"
   ]
  },
  {
   "cell_type": "code",
   "execution_count": 89,
   "id": "7cd270b0",
   "metadata": {},
   "outputs": [
    {
     "name": "stdout",
     "output_type": "stream",
     "text": [
      "Precision (macro): 0.9907430976017713\n",
      "Recall (macro): 0.9907430976017713\n",
      "F1 Score (macro): 0.9907430976017713\n",
      "Accuracy: 0.9940436796823295\n"
     ]
    }
   ],
   "source": [
    "precision = precision_score(y_test, y_pred_classes, average='macro')\n",
    "recall = recall_score(y_test, y_pred_classes, average='macro')\n",
    "f1 = f1_score(y_test, y_pred_classes, average='macro')\n",
    "accuracy = accuracy_score(y_test, y_pred_classes)\n",
    "\n",
    "print(f\"Precision (macro): {precision}\")\n",
    "print(f\"Recall (macro): {recall}\")\n",
    "print(f\"F1 Score (macro): {f1}\")\n",
    "print(f\"Accuracy: {accuracy}\")"
   ]
  },
  {
   "cell_type": "markdown",
   "id": "e438e13e",
   "metadata": {},
   "source": [
    "# CONVOLUTIONAL NEURAL NETWORK"
   ]
  },
  {
   "cell_type": "code",
   "execution_count": 90,
   "id": "db3ad418",
   "metadata": {},
   "outputs": [],
   "source": [
    "# splits the data into dependent and independent variables\n",
    "X = data.drop(\"DRIVER_BEHAVIOR\", axis = 1) #independent columns\n",
    "y = data[\"DRIVER_BEHAVIOR\"] #target\n",
    "\n",
    "num_classes = len(np.unique(y))\n",
    "\n",
    "# splits the data into train sets\n",
    "X_train, X_temp, y_train, y_temp = train_test_split(X, y, test_size=0.4, random_state=46)\n",
    "\n",
    "# splits the data into test and validation sets\n",
    "X_val, X_test, y_val, y_test = train_test_split(X_temp, y_temp, test_size=0.5, random_state=46)\n",
    "\n",
    "# scaling the faetures\n",
    "scaler = StandardScaler()\n",
    "\n",
    "# fit the scaler to the train data\n",
    "X_train = scaler.fit_transform(X_train)\n",
    "\n",
    "# fit the scaler to the test data\n",
    "X_test = scaler.transform(X_test)\n",
    "\n",
    "# fit the scaler to the validation data\n",
    "X_val = scaler.transform(X_val)"
   ]
  },
  {
   "cell_type": "code",
   "execution_count": 91,
   "id": "005d7aab",
   "metadata": {},
   "outputs": [],
   "source": [
    "num_features = X.shape[1]"
   ]
  },
  {
   "cell_type": "code",
   "execution_count": 92,
   "id": "7bf19821",
   "metadata": {},
   "outputs": [],
   "source": [
    "model = Sequential([\n",
    "    layers.Conv1D(filters=64, kernel_size=3, activation='relu', \n",
    "                  input_shape=(num_features, 1)),\n",
    "    \n",
    "    layers.MaxPool1D(pool_size=2),\n",
    "    \n",
    "    layers.Conv1D(filters=32, kernel_size=3, activation='relu'),\n",
    "    \n",
    "    layers.MaxPool1D(pool_size=2),\n",
    "    \n",
    "    layers.Flatten(),\n",
    "    \n",
    "    layers.Dense(64, activation='relu'),\n",
    "    \n",
    "    layers.Dense(num_classes, activation='sigmoid')\n",
    "])"
   ]
  },
  {
   "cell_type": "code",
   "execution_count": 93,
   "id": "3247f958",
   "metadata": {},
   "outputs": [],
   "source": [
    "model.compile(optimizer='adam', \n",
    "              loss='sparse_categorical_crossentropy',\n",
    "              metrics=['accuracy'])"
   ]
  },
  {
   "cell_type": "code",
   "execution_count": 94,
   "id": "0525cd2b",
   "metadata": {},
   "outputs": [
    {
     "name": "stdout",
     "output_type": "stream",
     "text": [
      "Epoch 1/5\n",
      "\u001b[1m1134/1134\u001b[0m \u001b[32m━━━━━━━━━━━━━━━━━━━━\u001b[0m\u001b[37m\u001b[0m \u001b[1m7s\u001b[0m 5ms/step - accuracy: 0.9067 - loss: 0.2726 - val_accuracy: 0.9760 - val_loss: 0.0671\n",
      "Epoch 2/5\n",
      "\u001b[1m1134/1134\u001b[0m \u001b[32m━━━━━━━━━━━━━━━━━━━━\u001b[0m\u001b[37m\u001b[0m \u001b[1m5s\u001b[0m 5ms/step - accuracy: 0.9747 - loss: 0.0637 - val_accuracy: 0.9817 - val_loss: 0.0464\n",
      "Epoch 3/5\n",
      "\u001b[1m1134/1134\u001b[0m \u001b[32m━━━━━━━━━━━━━━━━━━━━\u001b[0m\u001b[37m\u001b[0m \u001b[1m6s\u001b[0m 5ms/step - accuracy: 0.9810 - loss: 0.0465 - val_accuracy: 0.9806 - val_loss: 0.0469\n",
      "Epoch 4/5\n",
      "\u001b[1m1134/1134\u001b[0m \u001b[32m━━━━━━━━━━━━━━━━━━━━\u001b[0m\u001b[37m\u001b[0m \u001b[1m5s\u001b[0m 5ms/step - accuracy: 0.9835 - loss: 0.0386 - val_accuracy: 0.9830 - val_loss: 0.0397\n",
      "Epoch 5/5\n",
      "\u001b[1m1134/1134\u001b[0m \u001b[32m━━━━━━━━━━━━━━━━━━━━\u001b[0m\u001b[37m\u001b[0m \u001b[1m5s\u001b[0m 5ms/step - accuracy: 0.9841 - loss: 0.0372 - val_accuracy: 0.9872 - val_loss: 0.0334\n"
     ]
    }
   ],
   "source": [
    "# start tracking the CPU usage and time\n",
    "cpu_percentage = []\n",
    "start_time = time.time()\n",
    "\n",
    "# creating a function to track the average cpu\n",
    "def cpu_tracker(interval=0.1):\n",
    "    while True:\n",
    "        cpu_percentage.append(psutil.cpu_percent(interval=interval))\n",
    "        \n",
    "# start CPU tracking in a separate thread\n",
    "tracker_thread = threading.Thread(target=cpu_tracker)\n",
    "tracker_thread.start()\n",
    "\n",
    "# train the model\n",
    "history = model.fit(X_train, y_train, validation_data=(X_val, y_val), epochs=5, batch_size=32)\n",
    "\n",
    "# end the time tracker\n",
    "end_time = time.time()\n",
    "\n",
    "# stop CPU tracking\n",
    "tracker_thread.join(timeout=0)"
   ]
  },
  {
   "cell_type": "code",
   "execution_count": 95,
   "id": "c6535188",
   "metadata": {},
   "outputs": [],
   "source": [
    "# calculate time taken and average CPU usage\n",
    "training_time = end_time - start_time\n",
    "average_CPU_usage = sum(cpu_percentage) / len(cpu_percentage) if cpu_percentage else 0"
   ]
  },
  {
   "cell_type": "code",
   "execution_count": 96,
   "id": "dac722db",
   "metadata": {},
   "outputs": [
    {
     "name": "stdout",
     "output_type": "stream",
     "text": [
      "Time taken to train the model: 29.32 seconds\n",
      "Average CPU usage during training: 65.52%\n"
     ]
    }
   ],
   "source": [
    "print(f\"Time taken to train the model: {training_time:.2f} seconds\")\n",
    "print(f\"Average CPU usage during training: {average_CPU_usage:.2f}%\")"
   ]
  },
  {
   "cell_type": "markdown",
   "id": "d2bd4928",
   "metadata": {},
   "source": [
    "#### VISUALIZE THE CNN ACCURACY AND LOSS PROGRESS"
   ]
  },
  {
   "cell_type": "code",
   "execution_count": 97,
   "id": "29f21ef9",
   "metadata": {},
   "outputs": [
    {
     "data": {
      "image/png": "[encoded data removed]",
      "text/plain": [
       "<Figure size 1200x400 with 2 Axes>"
      ]
     },
     "metadata": {},
     "output_type": "display_data"
    }
   ],
   "source": [
    "# plot training and validation accuracy\n",
    "plt.figure(figsize=(12, 4))\n",
    "plt.subplot(1, 2, 1)\n",
    "plt.plot(history.history['accuracy'])\n",
    "plt.plot(history.history['val_accuracy'])\n",
    "plt.title('Model accuracy')\n",
    "plt.ylabel('Accuracy')\n",
    "plt.xlabel('Epoch')\n",
    "plt.legend(['Train', 'Validation'], loc='upper left')\n",
    "\n",
    "# plot training and validation loss values\n",
    "plt.subplot(1, 2, 2)\n",
    "plt.plot(history.history['loss'])\n",
    "plt.plot(history.history['val_loss'])\n",
    "plt.title('Model loss')\n",
    "plt.ylabel('Loss')\n",
    "plt.xlabel('Epoch')\n",
    "plt.legend(['Train', 'Validation'], loc='upper left')\n",
    "\n",
    "plt.show()"
   ]
  },
  {
   "cell_type": "markdown",
   "id": "d16ba977",
   "metadata": {},
   "source": [
    "#### EVALUATE THE CNN TEST ACCURACY"
   ]
  },
  {
   "cell_type": "code",
   "execution_count": 98,
   "id": "fc79b9d9",
   "metadata": {},
   "outputs": [
    {
     "name": "stdout",
     "output_type": "stream",
     "text": [
      "\u001b[1m378/378\u001b[0m \u001b[32m━━━━━━━━━━━━━━━━━━━━\u001b[0m\u001b[37m\u001b[0m \u001b[1m1s\u001b[0m 3ms/step - accuracy: 0.9892 - loss: 0.0286\n"
     ]
    }
   ],
   "source": [
    "# Test set evaluation\n",
    "test_loss, test_accuracy = model.evaluate(X_test, y_test)"
   ]
  },
  {
   "cell_type": "code",
   "execution_count": 99,
   "id": "bcc896d4",
   "metadata": {},
   "outputs": [
    {
     "name": "stdout",
     "output_type": "stream",
     "text": [
      "CNN model accuracy: 98.84%\n"
     ]
    }
   ],
   "source": [
    "print(f\"CNN model accuracy: {test_accuracy * 100:.2f}%\")"
   ]
  },
  {
   "cell_type": "code",
   "execution_count": 100,
   "id": "17392e79",
   "metadata": {},
   "outputs": [
    {
     "name": "stdout",
     "output_type": "stream",
     "text": [
      "\u001b[1m378/378\u001b[0m \u001b[32m━━━━━━━━━━━━━━━━━━━━\u001b[0m\u001b[37m\u001b[0m \u001b[1m1s\u001b[0m 2ms/step\n"
     ]
    }
   ],
   "source": [
    "y_pred = model.predict(X_test)\n",
    "y_pred_classes = np.argmax(y_pred, axis=1)  # Get the index of the highest probability for each sample"
   ]
  },
  {
   "cell_type": "markdown",
   "id": "6ce1956a",
   "metadata": {},
   "source": [
    "#### CLASSIFICATION REPORT"
   ]
  },
  {
   "cell_type": "code",
   "execution_count": 101,
   "id": "ee92dd40",
   "metadata": {},
   "outputs": [
    {
     "name": "stdout",
     "output_type": "stream",
     "text": [
      "Precision (macro): 0.9826406587123918\n",
      "Recall (macro): 0.9758134941522667\n",
      "F1 Score (macro): 0.9790099610416014\n",
      "Accuracy: 0.9884182660489742\n"
     ]
    }
   ],
   "source": [
    "precision = precision_score(y_test, y_pred_classes, average='macro')\n",
    "recall = recall_score(y_test, y_pred_classes, average='macro')\n",
    "f1 = f1_score(y_test, y_pred_classes, average='macro')\n",
    "accuracy = accuracy_score(y_test, y_pred_classes)\n",
    "\n",
    "print(f\"Precision (macro): {precision}\")\n",
    "print(f\"Recall (macro): {recall}\")\n",
    "print(f\"F1 Score (macro): {f1}\")\n",
    "print(f\"Accuracy: {accuracy}\")"
   ]
  },
  {
   "cell_type": "code",
   "execution_count": null,
   "id": "47757cbc",
   "metadata": {},
   "outputs": [],
   "source": []
  }
 ],
 "metadata": {
  "kernelspec": {
   "display_name": "Python 3 (ipykernel)",
   "language": "python",
   "name": "python3"
  },
  "language_info": {
   "codemirror_mode": {
    "name": "ipython",
    "version": 3
   },
   "file_extension": ".py",
   "mimetype": "text/x-python",
   "name": "python",
   "nbconvert_exporter": "python",
   "pygments_lexer": "ipython3",
   "version": "3.10.9"
  }
 },
 "nbformat": 4,
 "nbformat_minor": 5
}
